{
 "cells": [
  {
   "cell_type": "markdown",
   "metadata": {
    "toc": true
   },
   "source": [
    "<h1>Содержание<span class=\"tocSkip\"></span></h1>\n",
    "<div class=\"toc\"><ul class=\"toc-item\"><li><span><a href=\"#Подготовка\" data-toc-modified-id=\"Подготовка-1\"><span class=\"toc-item-num\">1&nbsp;&nbsp;</span>Подготовка</a></span><ul class=\"toc-item\"><li><span><a href=\"#Лемматизация-исходных-данных:\" data-toc-modified-id=\"Лемматизация-исходных-данных:-1.1\"><span class=\"toc-item-num\">1.1&nbsp;&nbsp;</span>Лемматизация исходных данных:</a></span></li><li><span><a href=\"#Векторизация-и-устранение-дисбаланса\" data-toc-modified-id=\"Векторизация-и-устранение-дисбаланса-1.2\"><span class=\"toc-item-num\">1.2&nbsp;&nbsp;</span>Векторизация и устранение дисбаланса</a></span></li></ul></li><li><span><a href=\"#Обучение\" data-toc-modified-id=\"Обучение-2\"><span class=\"toc-item-num\">2&nbsp;&nbsp;</span>Обучение</a></span></li><li><span><a href=\"#Выводы\" data-toc-modified-id=\"Выводы-3\"><span class=\"toc-item-num\">3&nbsp;&nbsp;</span>Выводы</a></span></li><li><span><a href=\"#Чек-лист-проверки\" data-toc-modified-id=\"Чек-лист-проверки-4\"><span class=\"toc-item-num\">4&nbsp;&nbsp;</span>Чек-лист проверки</a></span></li></ul></div>"
   ]
  },
  {
   "cell_type": "markdown",
   "metadata": {},
   "source": [
    "# Проект для «Викишоп»"
   ]
  },
  {
   "cell_type": "markdown",
   "metadata": {},
   "source": [
    "Интернет-магазин «Викишоп» запускает новый сервис. Теперь пользователи могут редактировать и дополнять описания товаров, как в вики-сообществах. То есть клиенты предлагают свои правки и комментируют изменения других. Магазину нужен инструмент, который будет искать токсичные комментарии и отправлять их на модерацию. \n",
    "\n",
    "Обучите модель классифицировать комментарии на позитивные и негативные. В вашем распоряжении набор данных с разметкой о токсичности правок.\n",
    "Необходимо построить модель со значением метрики качества *F1* не меньше 0.75. \n",
    "\n",
    "**Описание данных**\n",
    "\n",
    "Данные находятся в файле `toxic_comments.csv`. Столбец *text* в нём содержит текст комментария, а *toxic* — целевой признак."
   ]
  },
  {
   "cell_type": "markdown",
   "metadata": {},
   "source": [
    "## Подготовка"
   ]
  },
  {
   "cell_type": "code",
   "execution_count": 33,
   "metadata": {},
   "outputs": [],
   "source": [
    "# подгрузим библиотеки\n",
    "\n",
    "import pandas as pd\n",
    "import numpy as np\n",
    "import seaborn as sn\n",
    "import matplotlib.pyplot as plt\n",
    "import math\n",
    "import warnings\n",
    "import re\n",
    "import random\n",
    "from pymystem3 import Mystem\n",
    "\n",
    "from sklearn.model_selection import train_test_split, cross_val_score, GridSearchCV\n",
    "from sklearn.metrics import f1_score, precision_score, recall_score, accuracy_score, roc_auc_score, roc_curve\n",
    "import nltk\n",
    "from nltk.corpus import stopwords as nltk_stopwords\n",
    "from sklearn.feature_extraction.text import TfidfVectorizer\n",
    "from sklearn.feature_extraction.text import CountVectorizer\n",
    "from sklearn.feature_extraction.text import TfidfTransformer\n",
    "from sklearn.svm import LinearSVC\n",
    "\n",
    "from sklearn.utils import shuffle\n",
    "\n",
    "from sklearn.linear_model import LogisticRegression, SGDClassifier\n",
    "from sklearn.ensemble import RandomForestClassifier\n",
    "import xgboost\n",
    "from catboost import CatBoostClassifier\n",
    "\n",
    "from nltk.stem import WordNetLemmatizer \n",
    "from sklearn.pipeline import Pipeline\n",
    "\n",
    "warnings.filterwarnings('ignore')\n",
    "state = np.random.RandomState(12345)\n",
    "\n",
    "pd.options.display.float_format ='{:,.4f}'.format"
   ]
  },
  {
   "cell_type": "code",
   "execution_count": 2,
   "metadata": {},
   "outputs": [],
   "source": [
    "data = pd.read_csv('/datasets/toxic_comments.csv')"
   ]
  },
  {
   "cell_type": "code",
   "execution_count": 3,
   "metadata": {},
   "outputs": [],
   "source": [
    "# функция для обзора содержимого таблиц\n",
    "\n",
    "def table_info(table_ref,table_name):\n",
    "    print ('\\n' + '\\033[1m' + 'Таблица: ' + table_name + '\\033[0m')    \n",
    "    table_ref.info()\n",
    "    df_number = table_ref.select_dtypes(include = np.number)\n",
    "    for col_number in range(0,df_number.shape[1]):\n",
    "        print(f'\\nМинимальное и максимальное значения в колонке {df_number.columns[col_number]} : \\\n",
    "              {df_number.loc[:,df_number.columns[col_number]].min()} и {df_number.loc[:,df_number.columns[col_number]].max()}')\n",
    "    df_not_number = table_ref.select_dtypes(exclude = np.number)\n",
    "    for col_number in range(0,df_not_number.shape[1]):\n",
    "        print(f'\\nСписок значений в колонке {df_not_number.columns[col_number]}: \\\n",
    "        {(df_not_number.loc[:,df_not_number.columns[col_number]].sort_values().unique())}')            \n",
    "    print ('\\n\\033[1m' + 'Процент пропущенных значений в колонках:' + '\\033[0m')\n",
    "    print(table_ref.isna().mean().sort_values(ascending = False) * 100)\n",
    "    print ('\\n\\033[1m' + 'Количество строк с пропущенными значениями:' + '\\033[0m')\n",
    "    print(table_ref.isnull().any(axis=1).sum())\n"
   ]
  },
  {
   "cell_type": "code",
   "execution_count": 4,
   "metadata": {},
   "outputs": [
    {
     "name": "stdout",
     "output_type": "stream",
     "text": [
      "\n",
      "\u001b[1mТаблица: Исходные данные\u001b[0m\n",
      "<class 'pandas.core.frame.DataFrame'>\n",
      "RangeIndex: 159571 entries, 0 to 159570\n",
      "Data columns (total 2 columns):\n",
      " #   Column  Non-Null Count   Dtype \n",
      "---  ------  --------------   ----- \n",
      " 0   text    159571 non-null  object\n",
      " 1   toxic   159571 non-null  int64 \n",
      "dtypes: int64(1), object(1)\n",
      "memory usage: 2.4+ MB\n",
      "\n",
      "Минимальное и максимальное значения в колонке toxic :               0 и 1\n",
      "\n",
      "Список значений в колонке text:         [\"!\\n\\nI won't stop!  LOCK IT UP A$$HOLE\"\n",
      " '!\\n\\nIt is now inside your bones, your head. Haunt you forever'\n",
      " \"!\\n\\nSuck my DIHCK! Nihgga!\\n\\nYou don't want people to know the TRUTH about utorrant, you FAG\"\n",
      " ...\n",
      " \"只, is it correctly written in the picture of the calligraphy?  I would say it isn't.  It is replaced by the wrong word 隻.\"\n",
      " '这是什么意思？\\n\\nYou have been blocked from editing.\\n62.194.166.79 (your account, your IP address or a range of addresses) was blocked by Jpgordon for the following reason (see our blocking policy):\\ntor\\n\\nYour IP address is 62.194.166.79, and your block has been set to expire: indefinite.'\n",
      " \"\\ufeffSensual Pleasures of the MindItalic text\\n\\nThere are endless creative ways to provoke and capture sensual feelings. Money can’t buy it, you can’t see it or hold it, outer\\npackaging offers no competition for it and no grandiose flash of materialistic presence can incite it. Sensuality in it’s truest sense can only be felt within.  It is provoked by and through the power and brilliance of the mind. It is born there and lives there.\\n\\nSince it is a feeling rather than a physical event, it is more difficult to achieve and maintain than might be found with other less deeply rooted sexual experiences.  Knowledge, intuition and creativity are the tools necessary to discover where it lives and how to awaken it, what it takes to stimulate it and how to nurture it so it will grow. A conscientious partner can create a need and cravings simply by using the power of the mind.    \\n\\nAll of this offers new meaning to the old adage about the mind being a terrible thing to waste. There are hot spots in the psyche that can be triggered by suggestion and connection. (Emotional Buttons)  Pushing those buttons engenders our partner's sensory and sexual experience. We do this by using one type of energy to spark another and by channeling emotional reactions into sexuality. Where the adventure leads is limited only by the knowledge, intuition and creativity an individual possesses. Nothing is written in stone and there is no list of how to’s.  It’s freelance flight.\\n\\nKnowledge is power! Getting to know your partner and what makes her/him tick and tingle is the first step. The ability to\\nunearth these secret treasures comes from paying close attention to things you say or do that result in an action or reaction\\nindicating you have your finger on a button (hot spot). Finding all of those buttons, exploring the endless possibilities and\\ndiscovering the wondrous places they lead, takes patience and thought, but the rewards are immeasurable.\\n\\nHaving well honed intuition is a valuable asset. Liken it, if you will, to a good quarter back with a natural talent for reading the defense. If you ‘know’ what your partner needs, wants and desires without her/him having to explain it all, then you hold a powerful advantage. Possessing a good base knowledge of the opposite sex, in general, offers a continual win, win proposition\\n\\nBeing gifted with a creative imagination or obtaining skills in this arena will offer many positives for a lasting and pleasurable sex life. Desires and cravings are born in the mind and live there so it would make sense to use the power of the mind to it fullest to gain the greatest results. Spice and adventure are two major factors in all sexual experiences. If they are not on the top of your list of priorities then they should be. Avoiding boredom is key in creating cravings for more. If it wasn't good the first time, why would anyone want to repeat it?  Taking your partner to a place where she/he has never been before and making each experience a lasting memory should be primary goals. That is the stuff heroes are made of.\\n\\nSexual stimulation can be achieved and sustained through physical manipulation, sexual pleasures, or through mind play and manipulation A physical presence, a verbal exchange, a mere mental/emotional connection or any combination of all of the above can create an ‘altered mental state’, a place of arousal and euphoria.\\n\\nSensual/erotic tasks and journals are great avenues to maintain altered states. Rituals and sensual tasks , while away from your\\npartner can help keep the buttons pushed, the bond strong, keep the connection flowing and offer sexual stimulation on an\\nongoing basis. Keeping your partner in an ‘altered state’ often and for as long as possible will help in creating cravings and lead to a path ultimate sexual pleasure.\\n\\nAltered states....\\n1-Sexuality.....intensely 'turned on' riding a sexual high ...erotica.....consumed by passion\\n2-Endorphin high...... an altered state resulting from physical or intense mental stimulation.\\n3-Euphoria.....totally absorbed in your partner and the sensations and feelings being created.\\n5-Head space......spellbound/entranced..lost in the release of control..total freedom and flight..to be absorbed in the trust and acceptance..a peaceful place\\n6-Nirvana......meditative state.....heightened consciousness with loss of awareness.....having a sense of self through 'losing oneself'......total freedom through total loss of control.\\n\\nAll sexual experiences need to be consensual and remain safe.\"]\n",
      "\n",
      "\u001b[1mПроцент пропущенных значений в колонках:\u001b[0m\n",
      "text    0.0000\n",
      "toxic   0.0000\n",
      "dtype: float64\n",
      "\n",
      "\u001b[1mКоличество строк с пропущенными значениями:\u001b[0m\n",
      "0\n"
     ]
    }
   ],
   "source": [
    "table_info(data, 'Исходные данные')"
   ]
  },
  {
   "cell_type": "markdown",
   "metadata": {},
   "source": [
    "Представлены текстовые данные в 159571 строках. Колонка целевого признака toxic принимает 2 значения  - 0 и 1."
   ]
  },
  {
   "cell_type": "code",
   "execution_count": 5,
   "metadata": {},
   "outputs": [
    {
     "name": "stdout",
     "output_type": "stream",
     "text": [
      "0    143346\n",
      "1     16225\n",
      "Name: toxic, dtype: int64\n",
      "\n",
      "\u001b[1mСоотношение между классами =\u001b[0m 8.834884437596301\n"
     ]
    },
    {
     "data": {
      "image/png": "[encoded data removed]",
      "text/plain": [
       "<Figure size 432x288 with 1 Axes>"
      ]
     },
     "metadata": {
      "needs_background": "light"
     },
     "output_type": "display_data"
    }
   ],
   "source": [
    "print(data['toxic'].value_counts())\n",
    "data['toxic'].value_counts().plot(kind='bar', title = 'Распределение классов по исходных данных')\n",
    "print ('\\n' + '\\033[1m' + 'Соотношение между классами =' + '\\033[0m', data['toxic'].value_counts()[0] / data['toxic'].value_counts()[1]) \n"
   ]
  },
  {
   "cell_type": "markdown",
   "metadata": {},
   "source": [
    "По графику видно, что классы распределены несбалансированно. \n",
    "Разберем несколько вариантов устранения дисбаланса:\n",
    "\n",
    "1) Уменьшение выборки (downsampling) с признаком 0. Данный вариант прост, но сильно снизит размер выборки и возможно скажется на качестве обучения;\n",
    "\n",
    "2) корректировка весов модели. Данный вариант более предпочтительный.\n",
    "\n",
    "Вариант увеличения данных с признаком 1 не будет рассматривать, так как невозможно \"размножить\" текстовые данные настолько, чтобы данный факт не оказал влияние на качество обучения модели.  "
   ]
  },
  {
   "cell_type": "markdown",
   "metadata": {},
   "source": [
    "### Лемматизация исходных данных:"
   ]
  },
  {
   "cell_type": "markdown",
   "metadata": {},
   "source": [
    "Лемматизируем исходные данные:"
   ]
  },
  {
   "cell_type": "code",
   "execution_count": 6,
   "metadata": {},
   "outputs": [
    {
     "data": {
      "text/html": [
       "<div>\n",
       "<style scoped>\n",
       "    .dataframe tbody tr th:only-of-type {\n",
       "        vertical-align: middle;\n",
       "    }\n",
       "\n",
       "    .dataframe tbody tr th {\n",
       "        vertical-align: top;\n",
       "    }\n",
       "\n",
       "    .dataframe thead th {\n",
       "        text-align: right;\n",
       "    }\n",
       "</style>\n",
       "<table border=\"1\" class=\"dataframe\">\n",
       "  <thead>\n",
       "    <tr style=\"text-align: right;\">\n",
       "      <th></th>\n",
       "      <th>toxic</th>\n",
       "      <th>lemmatize_text</th>\n",
       "    </tr>\n",
       "  </thead>\n",
       "  <tbody>\n",
       "    <tr>\n",
       "      <th>0</th>\n",
       "      <td>0</td>\n",
       "      <td>explanation why the edits made under my userna...</td>\n",
       "    </tr>\n",
       "    <tr>\n",
       "      <th>1</th>\n",
       "      <td>0</td>\n",
       "      <td>d aww he match this background colour i m seem...</td>\n",
       "    </tr>\n",
       "    <tr>\n",
       "      <th>2</th>\n",
       "      <td>0</td>\n",
       "      <td>hey man i m really not trying to edit war it s...</td>\n",
       "    </tr>\n",
       "    <tr>\n",
       "      <th>3</th>\n",
       "      <td>0</td>\n",
       "      <td>more i ca n t make any real suggestion on impr...</td>\n",
       "    </tr>\n",
       "    <tr>\n",
       "      <th>4</th>\n",
       "      <td>0</td>\n",
       "      <td>you sir are my hero any chance you remember wh...</td>\n",
       "    </tr>\n",
       "    <tr>\n",
       "      <th>...</th>\n",
       "      <td>...</td>\n",
       "      <td>...</td>\n",
       "    </tr>\n",
       "    <tr>\n",
       "      <th>159566</th>\n",
       "      <td>0</td>\n",
       "      <td>and for the second time of asking when your vi...</td>\n",
       "    </tr>\n",
       "    <tr>\n",
       "      <th>159567</th>\n",
       "      <td>0</td>\n",
       "      <td>you should be ashamed of yourself that is a ho...</td>\n",
       "    </tr>\n",
       "    <tr>\n",
       "      <th>159568</th>\n",
       "      <td>0</td>\n",
       "      <td>spitzer umm there no actual article for prosti...</td>\n",
       "    </tr>\n",
       "    <tr>\n",
       "      <th>159569</th>\n",
       "      <td>0</td>\n",
       "      <td>and it look like it wa actually you who put on...</td>\n",
       "    </tr>\n",
       "    <tr>\n",
       "      <th>159570</th>\n",
       "      <td>0</td>\n",
       "      <td>and i really do n t think you understand i cam...</td>\n",
       "    </tr>\n",
       "  </tbody>\n",
       "</table>\n",
       "<p>159571 rows × 2 columns</p>\n",
       "</div>"
      ],
      "text/plain": [
       "        toxic                                     lemmatize_text\n",
       "0           0  explanation why the edits made under my userna...\n",
       "1           0  d aww he match this background colour i m seem...\n",
       "2           0  hey man i m really not trying to edit war it s...\n",
       "3           0  more i ca n t make any real suggestion on impr...\n",
       "4           0  you sir are my hero any chance you remember wh...\n",
       "...       ...                                                ...\n",
       "159566      0  and for the second time of asking when your vi...\n",
       "159567      0  you should be ashamed of yourself that is a ho...\n",
       "159568      0  spitzer umm there no actual article for prosti...\n",
       "159569      0  and it look like it wa actually you who put on...\n",
       "159570      0  and i really do n t think you understand i cam...\n",
       "\n",
       "[159571 rows x 2 columns]"
      ]
     },
     "metadata": {},
     "output_type": "display_data"
    },
    {
     "name": "stdout",
     "output_type": "stream",
     "text": [
      "CPU times: user 3min 51s, sys: 309 ms, total: 3min 52s\n",
      "Wall time: 3min 55s\n"
     ]
    }
   ],
   "source": [
    "%%time\n",
    "\n",
    "# m = Mystem()\n",
    "lemmatizer = WordNetLemmatizer()\n",
    "\n",
    "def lemmatize_text(text):\n",
    "    text = text.lower()\n",
    "    cleared_text = re.sub(r'[^a-zA-Z]', ' ', text)\n",
    "#    lemm_text = \"\".join(m.lemmatize(text))\n",
    "    word_list = nltk.word_tokenize(text)\n",
    "    \n",
    "    lemm_text = \" \".join([lemmatizer.lemmatize(w) for w in word_list])\n",
    "    cleared_text = re.sub(r'[^a-zA-Z]', ' ', lemm_text) \n",
    "    return \" \".join(cleared_text.split())\n",
    "\n",
    "data['lemmatize_text'] = data['text'].apply(lemmatize_text)\n",
    "\n",
    "data = data.drop(['text'], axis=1)\n",
    "\n",
    "display(data)"
   ]
  },
  {
   "cell_type": "markdown",
   "metadata": {},
   "source": [
    "По условиям проекта не была представлена тестовая выборка, поэтому выполним разделение данных на обучающую выборку, валидационную выборку и тестовую выборку в соотношении 3:1:1. "
   ]
  },
  {
   "cell_type": "code",
   "execution_count": 7,
   "metadata": {},
   "outputs": [],
   "source": [
    "# признаки для обучения модели\n",
    "features = data.drop(['toxic'], axis=1)\n"
   ]
  },
  {
   "cell_type": "markdown",
   "metadata": {},
   "source": [
    "### Векторизация и устранение дисбаланса"
   ]
  },
  {
   "cell_type": "markdown",
   "metadata": {},
   "source": [
    "Подготовим выборки для 2 вариантов устранения дисбаланса классов:"
   ]
  },
  {
   "cell_type": "markdown",
   "metadata": {},
   "source": [
    "<b> 1) Исходная выборка для балансирования классов с помощью модели: <b/>"
   ]
  },
  {
   "cell_type": "code",
   "execution_count": 8,
   "metadata": {},
   "outputs": [],
   "source": [
    "# целевой признак\n",
    "target = data['toxic']\n",
    "\n",
    "# разделение выборок\n",
    "features_train_init, features_valid_init, target_train, target_valid = train_test_split(features,target, test_size=0.4, \n",
    "                                                                              random_state=123456)\n",
    "features_valid_init, features_test_init, target_valid, target_test = train_test_split(features_valid_init, target_valid, test_size=0.5,\n",
    "                                                                            random_state=123456)"
   ]
  },
  {
   "cell_type": "code",
   "execution_count": 9,
   "metadata": {},
   "outputs": [
    {
     "name": "stderr",
     "output_type": "stream",
     "text": [
      "[nltk_data] Downloading package stopwords to /home/jovyan/nltk_data...\n",
      "[nltk_data]   Package stopwords is already up-to-date!\n"
     ]
    },
    {
     "name": "stdout",
     "output_type": "stream",
     "text": [
      "\n",
      "\u001b[1mРазмер обучающей выборки =\u001b[0m (95742, 119551)\n",
      "\n",
      "\u001b[1mРазмер валидационной выборки =\u001b[0m (31914, 119551)\n",
      "\n",
      "\u001b[1mРазмер тестовой выборки =\u001b[0m (31915, 119551)\n"
     ]
    }
   ],
   "source": [
    "nltk.download('stopwords')\n",
    "stopwords = set(nltk_stopwords.words('english'))\n",
    "\n",
    "count_tf_idf = TfidfVectorizer(stop_words=stopwords)\n",
    "\n",
    "\n",
    "# векторизация лемматизированного текста:\n",
    "features_train = count_tf_idf.fit_transform(features_train_init['lemmatize_text'])\n",
    "features_valid = count_tf_idf.transform(features_valid_init['lemmatize_text'])\n",
    "features_test = count_tf_idf.transform(features_test_init['lemmatize_text'])\n",
    "print ('\\n' + '\\033[1m' + 'Размер обучающей выборки =' + '\\033[0m', features_train.shape) \n",
    "print ('\\n' + '\\033[1m' + 'Размер валидационной выборки =' + '\\033[0m', features_valid.shape) \n",
    "print ('\\n' + '\\033[1m' + 'Размер тестовой выборки =' + '\\033[0m', features_test.shape) \n"
   ]
  },
  {
   "cell_type": "markdown",
   "metadata": {},
   "source": [
    "<b> 2) Downsampling выборки с классом 0: <b/>"
   ]
  },
  {
   "cell_type": "code",
   "execution_count": 10,
   "metadata": {},
   "outputs": [],
   "source": [
    "data_train = data.iloc[target_train.index]\n",
    "\n",
    "target_train_zero = data_train[data_train['toxic'] == 0]['toxic']\n",
    "target_train_one = data_train[data_train['toxic'] == 1]['toxic']\n",
    "target_train_zero_downsample = target_train_zero.sample(target_train_one.shape[0],\n",
    "                                                                    random_state=123456)\n",
    "target_train_downsample = pd.concat([target_train_zero_downsample, target_train_one])\n",
    "\n",
    "features_train_downsample_init = data.iloc[target_train_downsample.index]\n",
    "features_train_downsample_init, target_train_downsample = shuffle(features_train_downsample_init,\n",
    "                                                             target_train_downsample,\n",
    "                                                             random_state=123456)\n",
    "\n",
    "features_valid_downsample = features_valid\n",
    "features_test_downsample = features_test\n",
    "target_valid_downsample = target_valid\n",
    "target_test_downsample = target_test"
   ]
  },
  {
   "cell_type": "code",
   "execution_count": 11,
   "metadata": {},
   "outputs": [
    {
     "name": "stdout",
     "output_type": "stream",
     "text": [
      "\n",
      "\u001b[1mРазмер обучающей выборки =\u001b[0m (19388, 119551)\n",
      "\n",
      "\u001b[1mРазмер валидационной выборки =\u001b[0m (31914, 119551)\n",
      "\n",
      "\u001b[1mРазмер тестовой выборки =\u001b[0m (31915, 119551)\n"
     ]
    }
   ],
   "source": [
    "# векторизация лемматизированного текста:\n",
    "features_train_downsample = count_tf_idf.transform(features_train_downsample_init['lemmatize_text'])\n",
    "\n",
    "print ('\\n' + '\\033[1m' + 'Размер обучающей выборки =' + '\\033[0m', features_train_downsample.shape) \n",
    "print ('\\n' + '\\033[1m' + 'Размер валидационной выборки =' + '\\033[0m', features_valid_downsample.shape) \n",
    "print ('\\n' + '\\033[1m' + 'Размер тестовой выборки =' + '\\033[0m', features_test_downsample.shape) "
   ]
  },
  {
   "cell_type": "markdown",
   "metadata": {},
   "source": [
    "После векторизации увеличилось количество признаков."
   ]
  },
  {
   "cell_type": "markdown",
   "metadata": {},
   "source": [
    "Для сравнения 2 вариантов балансирования будем использовать самую распространенную модель для бинарной классификации - логистическую регрессию. Оценивать будем метрику F1 на кросс-валидации.\n",
    "\n",
    "Перед устранением дисбаланса построим данную модель на исходных данных:"
   ]
  },
  {
   "cell_type": "code",
   "execution_count": 12,
   "metadata": {},
   "outputs": [
    {
     "name": "stdout",
     "output_type": "stream",
     "text": [
      "\n",
      "\u001b[1mМетрика F1 модели логистической регрессии без устранения дисбаланса на обучающей выборке \u001b[0m 0.724742386774463\n",
      "CPU times: user 2min 10s, sys: 2min 35s, total: 4min 45s\n",
      "Wall time: 4min 46s\n"
     ]
    }
   ],
   "source": [
    "%%time\n",
    "\n",
    "model = LogisticRegression()\n",
    "pipeline = Pipeline([('vect', CountVectorizer()),\n",
    "('tfidf', TfidfTransformer()),\n",
    "('model', model)])\n",
    "\n",
    "#train_f1 = cross_val_score(model, features_train, target_train, scoring='f1').mean()\n",
    "\n",
    "train_f1 = cross_val_score(pipeline, features_train_init['lemmatize_text'], target_train, scoring='f1').mean()\n",
    "print('\\n' + '\\033[1m' +'Метрика F1 модели логистической регрессии без устранения дисбаланса на обучающей выборке ' + \\\n",
    "      '\\033[0m', train_f1)"
   ]
  },
  {
   "cell_type": "markdown",
   "metadata": {},
   "source": [
    "1) балансирование весов модели:"
   ]
  },
  {
   "cell_type": "markdown",
   "metadata": {},
   "source": [
    "оценим модель с параметром class_weight='balanced':"
   ]
  },
  {
   "cell_type": "code",
   "execution_count": 13,
   "metadata": {},
   "outputs": [
    {
     "name": "stdout",
     "output_type": "stream",
     "text": [
      "\n",
      "\u001b[1mМетрика F1 модели логистической регрессии со сбалансированными классами (class_weight=\"balanced\") на обучающей выборке\u001b[0m 0.743166182023376\n",
      "CPU times: user 1min 55s, sys: 1min 49s, total: 3min 44s\n",
      "Wall time: 3min 45s\n"
     ]
    }
   ],
   "source": [
    "%%time\n",
    "\n",
    "model = LogisticRegression(class_weight='balanced')\n",
    "\n",
    "pipeline = Pipeline([('vect', CountVectorizer()),\n",
    "('tfidf', TfidfTransformer()),\n",
    "('model', model)])\n",
    "\n",
    "#train_f1_balance = cross_val_score(model, features_train, target_train, scoring='f1').mean()\n",
    "train_f1_balance = cross_val_score(pipeline, features_train_init['lemmatize_text'], target_train, scoring='f1').mean()\n",
    "print('\\n' + '\\033[1m' + 'Метрика F1 модели логистической регрессии со сбалансированными классами (class_weight=\"balanced\") \\\n",
    "на обучающей выборке' + '\\033[0m', train_f1_balance)"
   ]
  },
  {
   "cell_type": "markdown",
   "metadata": {},
   "source": [
    "оценим модель с рассчитанным параметром class_weight:"
   ]
  },
  {
   "cell_type": "code",
   "execution_count": 14,
   "metadata": {},
   "outputs": [
    {
     "name": "stdout",
     "output_type": "stream",
     "text": [
      "\n",
      "\u001b[1mМетрика F1 модели логистической регрессии со сбалансированными классами (с рассчитанным параметром class_weight) на обучающей выборке\u001b[0m 0.7549508097138016\n",
      "CPU times: user 2min 28s, sys: 2min 1s, total: 4min 29s\n",
      "Wall time: 4min 30s\n"
     ]
    }
   ],
   "source": [
    "%%time\n",
    "ratio_0_1 = data['toxic'].value_counts()[0] / data['toxic'].value_counts()[1]\n",
    "model = LogisticRegression(class_weight={0:1, 1:ratio_0_1})\n",
    "\n",
    "pipeline = Pipeline([('vect', CountVectorizer()),\n",
    "('tfidf', TfidfTransformer()),\n",
    "('model', model)])\n",
    "\n",
    "#train_f1_balance = cross_val_score(model, features_train, target_train, scoring='f1').mean()\n",
    "train_f1_balance = cross_val_score(pipeline, features_train_init['lemmatize_text'], target_train, scoring='f1').mean()\n",
    "print('\\n' + '\\033[1m' + 'Метрика F1 модели логистической регрессии со сбалансированными классами (с рассчитанным параметром class_weight) \\\n",
    "на обучающей выборке' + '\\033[0m', train_f1_balance)"
   ]
  },
  {
   "cell_type": "markdown",
   "metadata": {},
   "source": [
    "2) балансирование с помощью Downsampling выборки с классом 0:"
   ]
  },
  {
   "cell_type": "code",
   "execution_count": 15,
   "metadata": {},
   "outputs": [
    {
     "name": "stdout",
     "output_type": "stream",
     "text": [
      "\n",
      "\u001b[1mМетрика F1 модели логистической регрессии с уменьшением классов на обучающей выборке\u001b[0m 0.8860965583875565\n",
      "CPU times: user 18.7 s, sys: 17.4 s, total: 36.1 s\n",
      "Wall time: 36.2 s\n"
     ]
    }
   ],
   "source": [
    "%%time\n",
    "\n",
    "model = LogisticRegression()\n",
    "\n",
    "pipeline = Pipeline([('vect', CountVectorizer()),\n",
    "('tfidf', TfidfTransformer()),\n",
    "('model', model)])\n",
    "\n",
    "#train_f1_downsample = cross_val_score(model, features_train_downsample, target_train_downsample, scoring='f1').mean()\n",
    "train_f1_downsample = cross_val_score(pipeline, features_train_downsample_init['lemmatize_text'], target_train_downsample, scoring='f1').mean()\n",
    "print('\\n' + '\\033[1m' +'Метрика F1 модели логистической регрессии с уменьшением классов на обучающей выборке' + \\\n",
    "      '\\033[0m', train_f1_downsample)"
   ]
  },
  {
   "cell_type": "markdown",
   "metadata": {},
   "source": [
    "Выводы:\n",
    "1) Устранение дисбаланса улучшает метрику F1 исходной модели логистической регрессии на обучающих данных (с 0.7247 до 0.8861). \n",
    "\n",
    "2) Наилучшую метрику F1 по обучающим данным дает вариант с уменьшенной выборкой по классу 0 (0.8861). \n",
    "\n",
    "3) Встроенный параметр модели логистической регрессии class_weight='balanced' дает меньшую схожую метрику F1 по обучающим данным (0.7432), что и модель построенная на рассчитанном ранее соотношении классов (0.7550). Разница возникает из-за того, что модель с параметром class_weight='balanced' балансирует классы на обучающей выборке (выбранной случайно), в том время как соотношение классов считалось на исходных данных. \n",
    "Таким образом, предпочтительнее модель с рассчитанным на исходной выборке соотношением классов.\n"
   ]
  },
  {
   "cell_type": "code",
   "execution_count": 16,
   "metadata": {},
   "outputs": [
    {
     "name": "stdout",
     "output_type": "stream",
     "text": [
      "\n",
      "\u001b[1mСоотношение классов на исходной выборке =\u001b[0m 8.834884437596301\n",
      "\n",
      "\u001b[1mСоотношение классов на обучающей выборке =\u001b[0m 8.876418403135961\n"
     ]
    }
   ],
   "source": [
    "print('\\n' + '\\033[1m' + 'Соотношение классов на исходной выборке =' + '\\033[0m', data['toxic'].value_counts()[0] / data['toxic'].value_counts()[1])\n",
    "print('\\n' + '\\033[1m' + 'Соотношение классов на обучающей выборке =' + '\\033[0m', target_train.value_counts()[0] / target_train.value_counts()[1])"
   ]
  },
  {
   "cell_type": "markdown",
   "metadata": {},
   "source": [
    "Оценим варианты с помощью метрики ROC-AUC, полученной на валидационной выборке:"
   ]
  },
  {
   "cell_type": "code",
   "execution_count": 17,
   "metadata": {},
   "outputs": [],
   "source": [
    "# модель логистической регрессии без устранения дисбалансов\n",
    "model = LogisticRegression()\n",
    "model.fit(features_train, target_train)\n",
    "probabilities_valid = model.predict_proba(features_valid)\n",
    "probabilities_one_valid = probabilities_valid[:, 1]\n",
    "fpr, tpr, thresholds = roc_curve(target_valid, probabilities_one_valid)\n",
    "auc_roc = roc_auc_score(target_valid, probabilities_one_valid)\n",
    "valid_f1 = f1_score(target_valid, model.predict(features_valid))\n",
    "itog={}\n",
    "itog['Линейная регрессия без устранения классов']=[train_f1,valid_f1,auc_roc]\n",
    "\n",
    "\n",
    "# модель логистической регрессии с уменьшением выборки\n",
    "model = LogisticRegression()\n",
    "model.fit(features_train_downsample,target_train_downsample)\n",
    "probabilities_valid = model.predict_proba(features_valid_downsample)\n",
    "probabilities_one_valid = probabilities_valid[:, 1]\n",
    "fpr_downsample, tpr_downsample, thresholds = roc_curve(target_valid_downsample, probabilities_one_valid)\n",
    "auc_roc_downsample = roc_auc_score(target_valid_downsample, probabilities_one_valid)\n",
    "valid_f1_downsample = f1_score(target_valid_downsample, model.predict(features_valid_downsample))\n",
    "itog['Линейная регрессия с уменьшением выборки']=[train_f1_downsample,valid_f1_downsample,auc_roc_downsample]\n",
    "\n",
    "# модель логистической регрессии со сбалансированными классами\n",
    "model = LogisticRegression(class_weight={0:1, 1:ratio_0_1})\n",
    "model.fit(features_train, target_train)\n",
    "probabilities_valid = model.predict_proba(features_valid)\n",
    "probabilities_one_valid = probabilities_valid[:, 1]\n",
    "fpr_balance, tpr_balance, thresholds = roc_curve(target_valid, probabilities_one_valid)\n",
    "auc_roc_balance = roc_auc_score(target_valid, probabilities_one_valid)\n",
    "valid_f1_balance = f1_score(target_valid, model.predict(features_valid))\n",
    "itog['Линейная регрессия со сбалансированными классами']=[train_f1_balance,valid_f1_balance,auc_roc_balance]\n"
   ]
  },
  {
   "cell_type": "code",
   "execution_count": 18,
   "metadata": {},
   "outputs": [
    {
     "data": {
      "image/png": "[encoded data removed]",
      "text/plain": [
       "<Figure size 1080x648 with 1 Axes>"
      ]
     },
     "metadata": {
      "needs_background": "light"
     },
     "output_type": "display_data"
    }
   ],
   "source": [
    "plt.figure(figsize=[15,9])\n",
    "plt.xlim([0,1])\n",
    "plt.ylim([0,1])\n",
    "plt.xlabel(\"FPR\")\n",
    "plt.ylabel(\"TPR\")\n",
    "plt.title(\"ROC-кривая\")\n",
    "plt.plot(fpr, tpr, label='Логистическая регрессия без устранения дисбаланса')\n",
    "plt.plot(fpr_downsample, tpr_downsample, label='Логистическая регрессия с уменьшением выборки')\n",
    "plt.plot(fpr_balance, tpr_balance, label='Логистическая регрессия со сбалансированными классами')\n",
    "plt.plot([0, 1], [0, 1], linestyle='--', label='Случайная модель')\n",
    "plt.legend(loc='lower right', fontsize='x-large')\n",
    "plt.show()"
   ]
  },
  {
   "cell_type": "code",
   "execution_count": 19,
   "metadata": {},
   "outputs": [
    {
     "data": {
      "text/html": [
       "<div>\n",
       "<style scoped>\n",
       "    .dataframe tbody tr th:only-of-type {\n",
       "        vertical-align: middle;\n",
       "    }\n",
       "\n",
       "    .dataframe tbody tr th {\n",
       "        vertical-align: top;\n",
       "    }\n",
       "\n",
       "    .dataframe thead th {\n",
       "        text-align: right;\n",
       "    }\n",
       "</style>\n",
       "<table border=\"1\" class=\"dataframe\">\n",
       "  <thead>\n",
       "    <tr style=\"text-align: right;\">\n",
       "      <th></th>\n",
       "      <th>Линейная регрессия без устранения классов</th>\n",
       "      <th>Линейная регрессия с уменьшением выборки</th>\n",
       "      <th>Линейная регрессия со сбалансированными классами</th>\n",
       "    </tr>\n",
       "  </thead>\n",
       "  <tbody>\n",
       "    <tr>\n",
       "      <th>Метрика F1 на обучающей выборке</th>\n",
       "      <td>0.7247</td>\n",
       "      <td>0.8861</td>\n",
       "      <td>0.7550</td>\n",
       "    </tr>\n",
       "    <tr>\n",
       "      <th>Метрика F1 на валидационной выборке</th>\n",
       "      <td>0.7262</td>\n",
       "      <td>0.6968</td>\n",
       "      <td>0.7559</td>\n",
       "    </tr>\n",
       "    <tr>\n",
       "      <th>Метрика ROC-AUC на валидационной выборке</th>\n",
       "      <td>0.9707</td>\n",
       "      <td>0.9643</td>\n",
       "      <td>0.9705</td>\n",
       "    </tr>\n",
       "  </tbody>\n",
       "</table>\n",
       "</div>"
      ],
      "text/plain": [
       "                                          Линейная регрессия без устранения классов  \\\n",
       "Метрика F1 на обучающей выборке                                              0.7247   \n",
       "Метрика F1 на валидационной выборке                                          0.7262   \n",
       "Метрика ROC-AUC на валидационной выборке                                     0.9707   \n",
       "\n",
       "                                          Линейная регрессия с уменьшением выборки  \\\n",
       "Метрика F1 на обучающей выборке                                             0.8861   \n",
       "Метрика F1 на валидационной выборке                                         0.6968   \n",
       "Метрика ROC-AUC на валидационной выборке                                    0.9643   \n",
       "\n",
       "                                          Линейная регрессия со сбалансированными классами  \n",
       "Метрика F1 на обучающей выборке                                                     0.7550  \n",
       "Метрика F1 на валидационной выборке                                                 0.7559  \n",
       "Метрика ROC-AUC на валидационной выборке                                            0.9705  "
      ]
     },
     "metadata": {},
     "output_type": "display_data"
    }
   ],
   "source": [
    "itog_df = pd.DataFrame(itog, index=['Метрика F1 на обучающей выборке','Метрика F1 на валидационной выборке','Метрика ROC-AUC на валидационной выборке'])\n",
    "display(itog_df)"
   ]
  },
  {
   "cell_type": "markdown",
   "metadata": {},
   "source": [
    "<b> Выводы: </b>\n",
    "\n",
    "С учетом метрик F1 и ROC-AUC на валидационной выборке для подбора, обучения и тестирования моделей выберем вариант балансирования классов посредством модели с помощью рассчитанного ранее соотношения дисбаланса классов.\n"
   ]
  },
  {
   "cell_type": "code",
   "execution_count": 20,
   "metadata": {},
   "outputs": [],
   "source": [
    "del features_train_init\n",
    "del features_train_downsample\n",
    "del features_train_downsample_init\n",
    "del features_valid_downsample\n",
    "del features_test_downsample\n",
    "del target_train_downsample\n",
    "del target_valid_downsample\n",
    "del target_test_downsample"
   ]
  },
  {
   "cell_type": "markdown",
   "metadata": {},
   "source": [
    "## Обучение"
   ]
  },
  {
   "cell_type": "markdown",
   "metadata": {},
   "source": [
    "Исследуем следующие модели, которые используются для бинарной классификации:\n",
    "- модель логистической регрессии (LogisticRegression)\n",
    "- модель \"случайный лес\" (RandomForestClassifier)\n",
    "- модель SGDClassifier\n",
    "- модель XGBClassifier\n",
    "- модель CatBoostClassifier\n",
    "- модель SVMClassifier"
   ]
  },
  {
   "cell_type": "markdown",
   "metadata": {},
   "source": [
    "<b> 1) модель логистической регрессии (LogisticRegression) </b>"
   ]
  },
  {
   "cell_type": "code",
   "execution_count": 21,
   "metadata": {},
   "outputs": [
    {
     "name": "stdout",
     "output_type": "stream",
     "text": [
      "{'C': 10, 'class_weight': {0: 1, 1: 8.834884437596301}, 'solver': 'liblinear'}\n",
      "\n",
      "\u001b[1mКритерии и лучшие гиперпараметры для модели :\u001b[0m {'C': 10, 'class_weight': {0: 1, 1: 8.834884437596301}, 'solver': 'liblinear'}\n",
      "CPU times: user 1min 23s, sys: 1min 21s, total: 2min 44s\n",
      "Wall time: 2min 44s\n"
     ]
    }
   ],
   "source": [
    "%%time\n",
    "\n",
    "model = LogisticRegression()\n",
    "hyperparams = [{'solver':['liblinear'],\n",
    "                'C':[0.1, 1, 10],\n",
    "                'class_weight':[{0:1, 1:ratio_0_1}]}] \n",
    "# подбор гиперпараметров\n",
    "clf = GridSearchCV(model, hyperparams, scoring='f1',cv=3)\n",
    "clf.fit(features_train, target_train)\n",
    "\n",
    "best_params_LogisticRegression = clf.best_params_\n",
    "print(best_params_LogisticRegression)\n",
    "# вывод наилучших гиперпараметров\n",
    "print('\\n' + '\\033[1m' + 'Критерии и лучшие гиперпараметры для модели :'  + '\\033[0m', best_params_LogisticRegression)\n",
    "\n",
    "means = clf.cv_results_['mean_test_score']\n",
    "#stds = clf.cv_results_['std_test_score']\n",
    "#for mean, std, params in zip(means, stds, clf.cv_results_['params']):\n",
    "#    print(\"%0.6f for %r\"% (mean, params))\n",
    "#print()\n",
    "\n",
    "f1_LogisticRegression = max(means)"
   ]
  },
  {
   "cell_type": "code",
   "execution_count": 22,
   "metadata": {},
   "outputs": [
    {
     "name": "stdout",
     "output_type": "stream",
     "text": [
      "\n",
      "\u001b[1mМетрика F1 модели LogisticRegression на обучающей выборке =\u001b[0m 0.7569039243347394\n",
      "\n",
      "\u001b[1mМетрика F1 модели LogisticRegression на валидационной выборке =\u001b[0m 0.7617131359586088\n",
      "\n",
      "\u001b[1mМетрика F1 модели LogisticRegression на тестовой выборке =\u001b[0m 0.7502209131075109\n",
      "CPU times: user 15.9 s, sys: 15.2 s, total: 31.1 s\n",
      "Wall time: 31.1 s\n"
     ]
    }
   ],
   "source": [
    "%%time\n",
    "\n",
    "model = LogisticRegression()\n",
    "model.set_params(**best_params_LogisticRegression)\n",
    "model.fit(features_train, target_train)\n",
    "target_predict = model.predict(features_valid)\n",
    "valid_f1_LogisticRegression = f1_score(target_valid, target_predict)\n",
    "target_predict = model.predict(features_test)\n",
    "test_f1_LogisticRegression = f1_score(target_test, target_predict)\n",
    "\n",
    "print('\\n' + '\\033[1m' + 'Метрика F1 модели LogisticRegression на обучающей выборке ='  + '\\033[0m', f1_LogisticRegression)\n",
    "print('\\n' + '\\033[1m' + 'Метрика F1 модели LogisticRegression на валидационной выборке ='  + '\\033[0m', valid_f1_LogisticRegression)\n",
    "print('\\n' + '\\033[1m' + 'Метрика F1 модели LogisticRegression на тестовой выборке ='  + '\\033[0m', test_f1_LogisticRegression)\n",
    "\n",
    "itog={}\n",
    "itog['модель логистической регрессии (LogisticRegression)']=[f1_LogisticRegression,valid_f1_LogisticRegression,test_f1_LogisticRegression]"
   ]
  },
  {
   "cell_type": "markdown",
   "metadata": {},
   "source": [
    "<b> 2) модель \"случайный лес\" (RandomForestClassifier) </b>"
   ]
  },
  {
   "cell_type": "code",
   "execution_count": 23,
   "metadata": {},
   "outputs": [
    {
     "name": "stdout",
     "output_type": "stream",
     "text": [
      "{'class_weight': {0: 1, 1: 8.834884437596301}, 'max_depth': 1, 'n_estimators': 70, 'random_state': 123456}\n",
      "\n",
      "\u001b[1mКритерии и лучшие гиперпараметры для модели :\u001b[0m {'class_weight': {0: 1, 1: 8.834884437596301}, 'max_depth': 1, 'n_estimators': 70, 'random_state': 123456}\n",
      "CPU times: user 4min 33s, sys: 0 ns, total: 4min 33s\n",
      "Wall time: 4min 35s\n"
     ]
    }
   ],
   "source": [
    "%%time\n",
    "\n",
    "model = RandomForestClassifier()\n",
    "hyperparams = [{'max_depth':[x for x in range(1,10,2)],'n_estimators':[x for x in range(10,100,20)],\n",
    "                'random_state':[123456],\n",
    "                'class_weight':[{0:1, 1:ratio_0_1}]}]\n",
    "\n",
    "# подбор гиперпараметров\n",
    "clf = GridSearchCV(model, hyperparams, scoring='f1',cv=3)\n",
    "clf.fit(features_train, target_train)\n",
    "\n",
    "best_params_RandomForestClassifier = clf.best_params_\n",
    "print(best_params_RandomForestClassifier)\n",
    "# вывод наилучших гиперпараметров\n",
    "print('\\n' + '\\033[1m' + 'Критерии и лучшие гиперпараметры для модели :'  + '\\033[0m', best_params_RandomForestClassifier)\n",
    "\n",
    "means = clf.cv_results_['mean_test_score']\n",
    "#stds = clf.cv_results_['std_test_score']\n",
    "#for mean, std, params in zip(means, stds, clf.cv_results_['params']):\n",
    "#    print(\"%0.6f for %r\"% (mean, params))\n",
    "#print()\n",
    "\n",
    "f1_RandomForestClassifier = max(means)"
   ]
  },
  {
   "cell_type": "code",
   "execution_count": 24,
   "metadata": {},
   "outputs": [
    {
     "name": "stdout",
     "output_type": "stream",
     "text": [
      "\n",
      "\u001b[1mМетрика F1 модели RandomForestClassifier на обучающей выборке =\u001b[0m 0.3997649092583561\n",
      "\n",
      "\u001b[1mМетрика F1 модели RandomForestClassifier на валидационной выборке =\u001b[0m 0.26202387438704244\n",
      "\n",
      "\u001b[1mМетрика F1 модели RandomForestClassifier на тестовой выборке =\u001b[0m 0.25274068168228025\n",
      "CPU times: user 2.15 s, sys: 0 ns, total: 2.15 s\n",
      "Wall time: 2.15 s\n"
     ]
    }
   ],
   "source": [
    "%%time\n",
    "\n",
    "model = RandomForestClassifier()\n",
    "model.set_params(**best_params_RandomForestClassifier)\n",
    "model.fit(features_train, target_train)\n",
    "target_predict = model.predict(features_valid)\n",
    "valid_f1_RandomForestClassifier = f1_score(target_valid, target_predict)\n",
    "target_predict = model.predict(features_test)\n",
    "test_f1_RandomForestClassifier = f1_score(target_test, target_predict)\n",
    "\n",
    "print('\\n' + '\\033[1m' + 'Метрика F1 модели RandomForestClassifier на обучающей выборке ='  + '\\033[0m', f1_RandomForestClassifier)\n",
    "print('\\n' + '\\033[1m' + 'Метрика F1 модели RandomForestClassifier на валидационной выборке ='  + '\\033[0m', valid_f1_RandomForestClassifier)\n",
    "print('\\n' + '\\033[1m' + 'Метрика F1 модели RandomForestClassifier на тестовой выборке ='  + '\\033[0m', test_f1_RandomForestClassifier)\n",
    "itog['модель \"случайный лес\" (RandomForestClassifier)']=[f1_RandomForestClassifier,valid_f1_RandomForestClassifier,test_f1_RandomForestClassifier]"
   ]
  },
  {
   "cell_type": "markdown",
   "metadata": {},
   "source": [
    "<b> 3) модель SGDClassifier </b>"
   ]
  },
  {
   "cell_type": "code",
   "execution_count": 26,
   "metadata": {},
   "outputs": [
    {
     "name": "stdout",
     "output_type": "stream",
     "text": [
      "\n",
      "\u001b[1mКритерии и лучшие гиперпараметры для модели:\u001b[0m {'class_weight': {0: 1, 1: 8.834884437596301}, 'eta0': 0.3, 'learning_rate': 'adaptive', 'loss': 'squared_hinge', 'random_state': 123456}\n"
     ]
    }
   ],
   "source": [
    "model = SGDClassifier()\n",
    "\n",
    "hyperparams = [{'loss':['hinge', 'log','modified_huber', 'squared_hinge'],\n",
    "                'learning_rate':['constant', 'optimal', 'invscaling', 'adaptive'],\n",
    "                'eta0':[0.01, 0.05, 0.1, 0.2, 0.3, 0.5, 0.8],\n",
    "                'random_state':[123456],\n",
    "                'class_weight':[{0:1, 1:ratio_0_1}]}]\n",
    "\n",
    "# подбор гиперпараметров\n",
    "clf = GridSearchCV(model, hyperparams, scoring='f1',cv=10)\n",
    "clf.fit(features_train, target_train)\n",
    "best_params_SGDClassifier = clf.best_params_\n",
    "# вывод наилучших гиперпараметров\n",
    "print('\\n' + '\\033[1m' + 'Критерии и лучшие гиперпараметры для модели:'  + '\\033[0m', \n",
    "      best_params_SGDClassifier)\n",
    "\n",
    "means = clf.cv_results_['mean_test_score']\n",
    "#stds = clf.cv_results_['std_test_score']\n",
    "#for mean, std, params in zip(means, stds, clf.cv_results_['params']):\n",
    "#    print(\"%0.6f for %r\"% (mean, params))\n",
    "#print()\n",
    "\n",
    "f1_SGDClassifier = max(means)"
   ]
  },
  {
   "cell_type": "code",
   "execution_count": 27,
   "metadata": {},
   "outputs": [
    {
     "name": "stdout",
     "output_type": "stream",
     "text": [
      "\n",
      "\u001b[1mМетрика F1 модели SGDClassifier на обучающей выборке =\u001b[0m 0.7559538248265036\n",
      "\n",
      "\u001b[1mМетрика F1 модели SGDClassifier на валидационной выборке =\u001b[0m 0.7573900013622124\n",
      "\n",
      "\u001b[1mМетрика F1 модели SGDClassifier на тестовой выборке =\u001b[0m 0.7478382147838215\n",
      "CPU times: user 1.68 s, sys: 73.3 ms, total: 1.75 s\n",
      "Wall time: 1.76 s\n"
     ]
    }
   ],
   "source": [
    "%%time\n",
    "\n",
    "model = SGDClassifier()\n",
    "model.set_params(**best_params_SGDClassifier)\n",
    "model.fit(features_train, target_train)\n",
    "target_predict = model.predict(features_valid)\n",
    "valid_f1_SGDClassifier = f1_score(target_valid, target_predict)\n",
    "target_predict = model.predict(features_test)\n",
    "test_f1_SGDClassifier = f1_score(target_test, target_predict)\n",
    "print('\\n' + '\\033[1m' + 'Метрика F1 модели SGDClassifier на обучающей выборке ='  + '\\033[0m', f1_SGDClassifier)\n",
    "print('\\n' + '\\033[1m' + 'Метрика F1 модели SGDClassifier на валидационной выборке ='  + '\\033[0m', valid_f1_SGDClassifier)\n",
    "print('\\n' + '\\033[1m' + 'Метрика F1 модели SGDClassifier на тестовой выборке ='  + '\\033[0m', test_f1_SGDClassifier)\n",
    "itog['модель SGDClassifier']=[f1_SGDClassifier,valid_f1_SGDClassifier,test_f1_SGDClassifier]"
   ]
  },
  {
   "cell_type": "markdown",
   "metadata": {},
   "source": [
    "<b> 4) модель XGBClassifier </b>"
   ]
  },
  {
   "cell_type": "code",
   "execution_count": 28,
   "metadata": {},
   "outputs": [
    {
     "name": "stdout",
     "output_type": "stream",
     "text": [
      "\n",
      "\u001b[1mКритерии и лучшие гиперпараметры для модели:\u001b[0m {'eta': 0.8, 'eval_metric': 'error', 'max_depth': 1, 'n_estimators': 51, 'objective': 'binary:logistic', 'random_state': 123456}\n"
     ]
    }
   ],
   "source": [
    "model = xgboost.XGBClassifier()\n",
    "\n",
    "hyperparams = [{'max_depth':[x for x in range(1, 6, 5)],'n_estimators':[x for x in range(1, 101,50)],\n",
    "                'eta':[0.01, 0.1, 0.3, 0.5, 0.8],\n",
    "                'random_state':[123456],\n",
    "               'eval_metric':['error'],\n",
    "               'objective':['binary:logistic']}]\n",
    "\n",
    "# подбор гиперпараметров\n",
    "clf = GridSearchCV(model, hyperparams, scoring='f1',cv=3)\n",
    "clf.fit(features_train, target_train)\n",
    "best_params_XGBClassifier = clf.best_params_\n",
    "# вывод наилучших гиперпараметров\n",
    "print('\\n' + '\\033[1m' + 'Критерии и лучшие гиперпараметры для модели:'  + '\\033[0m', \n",
    "      best_params_XGBClassifier)\n",
    "\n",
    "means = clf.cv_results_['mean_test_score']\n",
    "#stds = clf.cv_results_['std_test_score']\n",
    "#for mean, std, params in zip(means, stds, clf.cv_results_['params']):\n",
    "#    print(\"%0.6f for %r\"% (mean, params))\n",
    "#print()\n",
    "\n",
    "f1_XGBClassifier = max(means)"
   ]
  },
  {
   "cell_type": "code",
   "execution_count": 29,
   "metadata": {},
   "outputs": [
    {
     "name": "stdout",
     "output_type": "stream",
     "text": [
      "\n",
      "\u001b[1mМетрика F1 модели XGBClassifier на обучающей выборке =\u001b[0m 0.697915071371551\n",
      "\n",
      "\u001b[1mМетрика F1 модели XGBClassifier на валидационной выборке =\u001b[0m 0.7090088584322247\n",
      "\n",
      "\u001b[1mМетрика F1 модели XGBClassifier на тестовой выборке =\u001b[0m 0.6996223824236183\n",
      "CPU times: user 31.6 s, sys: 291 ms, total: 31.9 s\n",
      "Wall time: 32 s\n"
     ]
    }
   ],
   "source": [
    "%%time\n",
    "\n",
    "model = xgboost.XGBClassifier()\n",
    "model.set_params(**best_params_XGBClassifier)\n",
    "model.fit(features_train, target_train)\n",
    "target_predict = model.predict(features_valid)\n",
    "valid_f1_XGBClassifier = f1_score(target_valid, target_predict)\n",
    "target_predict = model.predict(features_test)\n",
    "test_f1_XGBClassifier = f1_score(target_test, target_predict)\n",
    "print('\\n' + '\\033[1m' + 'Метрика F1 модели XGBClassifier на обучающей выборке ='  + '\\033[0m', f1_XGBClassifier)\n",
    "print('\\n' + '\\033[1m' + 'Метрика F1 модели XGBClassifier на валидационной выборке ='  + '\\033[0m', valid_f1_XGBClassifier)\n",
    "print('\\n' + '\\033[1m' + 'Метрика F1 модели XGBClassifier на тестовой выборке ='  + '\\033[0m', test_f1_XGBClassifier)\n",
    "itog['модель XGBClassifier']=[f1_XGBClassifier,valid_f1_XGBClassifier,test_f1_XGBClassifier]"
   ]
  },
  {
   "cell_type": "markdown",
   "metadata": {},
   "source": [
    "<b> 5) модель CatBoostClassifier </b>"
   ]
  },
  {
   "cell_type": "code",
   "execution_count": 30,
   "metadata": {},
   "outputs": [
    {
     "name": "stdout",
     "output_type": "stream",
     "text": [
      "\n",
      "\u001b[1mМетрика F1 модели CatBoostClassifier на обучающей выборке =\u001b[0m 0.72732409043945\n",
      "\n",
      "\u001b[1mМетрика F1 модели CatBoostClassifier на валидационной выборке =\u001b[0m 0.7528423998600665\n",
      "\n",
      "\u001b[1mМетрика F1 модели CatBoostClassifier на тестовой выборке =\u001b[0m 0.7397708674304418\n",
      "CPU times: user 30min 34s, sys: 8.82 s, total: 30min 42s\n",
      "Wall time: 31min 11s\n"
     ]
    }
   ],
   "source": [
    "%%time\n",
    "\n",
    "model = CatBoostClassifier(verbose=False, iterations=200)\n",
    "model.fit(features_train, target_train)\n",
    "target_predict = model.predict(features_valid)\n",
    "\n",
    "f1_CatBoostClassifier = cross_val_score(model,\n",
    "                                         features_train, \n",
    "                                         target_train, \n",
    "                                         cv=3, \n",
    "                                         scoring='f1').mean()\n",
    "valid_f1_CatBoostClassifier = f1_score(target_valid, target_predict)\n",
    "target_predict = model.predict(features_test)\n",
    "test_f1_CatBoostClassifier = f1_score(target_test, target_predict)\n",
    "print('\\n' + '\\033[1m' + 'Метрика F1 модели CatBoostClassifier на обучающей выборке ='  + '\\033[0m', f1_CatBoostClassifier)\n",
    "print('\\n' + '\\033[1m' + 'Метрика F1 модели CatBoostClassifier на валидационной выборке ='  + '\\033[0m', valid_f1_CatBoostClassifier)\n",
    "print('\\n' + '\\033[1m' + 'Метрика F1 модели CatBoostClassifier на тестовой выборке ='  + '\\033[0m', test_f1_CatBoostClassifier)\n",
    "itog['модель CatBoostClassifier ']=[f1_CatBoostClassifier,valid_f1_CatBoostClassifier,test_f1_CatBoostClassifier]"
   ]
  },
  {
   "cell_type": "markdown",
   "metadata": {},
   "source": [
    "<b> 6) модель SVMClassifier </b>"
   ]
  },
  {
   "cell_type": "code",
   "execution_count": 39,
   "metadata": {},
   "outputs": [
    {
     "name": "stdout",
     "output_type": "stream",
     "text": [
      "\n",
      "\u001b[1mКритерии и лучшие гиперпараметры для модели:\u001b[0m {'C': 1, 'class_weight': {0: 1, 1: 8.834884437596301}, 'loss': 'squared_hinge', 'random_state': 123456}\n"
     ]
    }
   ],
   "source": [
    "model = LinearSVC()\n",
    "\n",
    "hyperparams = {'C':[1,10], 'loss':['hinge', 'squared_hinge'], 'class_weight':[{0:1, 1:ratio_0_1}] , 'random_state':[123456]}\n",
    "\n",
    "# подбор гиперпараметров\n",
    "clf = GridSearchCV(model, hyperparams, refit = True, n_jobs=-1, scoring='f1',cv=3)\n",
    "clf.fit(features_train, target_train)\n",
    "best_params_LinearSVC = clf.best_params_\n",
    "# вывод наилучших гиперпараметров\n",
    "print('\\n' + '\\033[1m' + 'Критерии и лучшие гиперпараметры для модели:'  + '\\033[0m', \n",
    "      best_params_LinearSVC)\n",
    "\n",
    "means = clf.cv_results_['mean_test_score']\n",
    "#stds = clf.cv_results_['std_test_score']\n",
    "#for mean, std, params in zip(means, stds, clf.cv_results_['params']):\n",
    "#    print(\"%0.6f for %r\"% (mean, params))\n",
    "#print()\n",
    "\n",
    "f1_LinearSVC = max(means)"
   ]
  },
  {
   "cell_type": "code",
   "execution_count": 40,
   "metadata": {},
   "outputs": [
    {
     "name": "stdout",
     "output_type": "stream",
     "text": [
      "\n",
      "\u001b[1mМетрика F1 модели LinearSVC на обучающей выборке =\u001b[0m 0.7493471613633078\n",
      "\n",
      "\u001b[1mМетрика F1 модели LinearSVC на валидационной выборке =\u001b[0m 0.7525521207764199\n",
      "\n",
      "\u001b[1mМетрика F1 модели LinearSVC на тестовой выборке =\u001b[0m 0.7427557658190419\n",
      "CPU times: user 4.63 s, sys: 0 ns, total: 4.63 s\n",
      "Wall time: 4.93 s\n"
     ]
    }
   ],
   "source": [
    "%%time\n",
    "\n",
    "model = LinearSVC()\n",
    "model.set_params(**best_params_LinearSVC)\n",
    "model.fit(features_train, target_train)\n",
    "target_predict = model.predict(features_valid)\n",
    "valid_f1_LinearSVC = f1_score(target_valid, target_predict)\n",
    "target_predict = model.predict(features_test)\n",
    "test_f1_LinearSVC = f1_score(target_test, target_predict)\n",
    "print('\\n' + '\\033[1m' + 'Метрика F1 модели LinearSVC на обучающей выборке ='  + '\\033[0m', f1_LinearSVC)\n",
    "print('\\n' + '\\033[1m' + 'Метрика F1 модели LinearSVC на валидационной выборке ='  + '\\033[0m', valid_f1_LinearSVC)\n",
    "print('\\n' + '\\033[1m' + 'Метрика F1 модели LinearSVC на тестовой выборке ='  + '\\033[0m', test_f1_LinearSVC)\n",
    "itog['модель LinearSVC']=[f1_LinearSVC,valid_f1_LinearSVC,test_f1_LinearSVC]"
   ]
  },
  {
   "cell_type": "code",
   "execution_count": 41,
   "metadata": {},
   "outputs": [
    {
     "data": {
      "text/html": [
       "<div>\n",
       "<style scoped>\n",
       "    .dataframe tbody tr th:only-of-type {\n",
       "        vertical-align: middle;\n",
       "    }\n",
       "\n",
       "    .dataframe tbody tr th {\n",
       "        vertical-align: top;\n",
       "    }\n",
       "\n",
       "    .dataframe thead th {\n",
       "        text-align: right;\n",
       "    }\n",
       "</style>\n",
       "<table border=\"1\" class=\"dataframe\">\n",
       "  <thead>\n",
       "    <tr style=\"text-align: right;\">\n",
       "      <th></th>\n",
       "      <th>модель логистической регрессии (LogisticRegression)</th>\n",
       "      <th>модель \"случайный лес\" (RandomForestClassifier)</th>\n",
       "      <th>модель SGDClassifier</th>\n",
       "      <th>модель XGBClassifier</th>\n",
       "      <th>модель CatBoostClassifier</th>\n",
       "      <th>модель LinearSVC</th>\n",
       "    </tr>\n",
       "  </thead>\n",
       "  <tbody>\n",
       "    <tr>\n",
       "      <th>Метрика F1 на обучающей выборке</th>\n",
       "      <td>0.7569</td>\n",
       "      <td>0.3998</td>\n",
       "      <td>0.7560</td>\n",
       "      <td>0.6979</td>\n",
       "      <td>0.7273</td>\n",
       "      <td>0.7493</td>\n",
       "    </tr>\n",
       "    <tr>\n",
       "      <th>Метрика F1 на валидационной выборке</th>\n",
       "      <td>0.7617</td>\n",
       "      <td>0.2620</td>\n",
       "      <td>0.7574</td>\n",
       "      <td>0.7090</td>\n",
       "      <td>0.7528</td>\n",
       "      <td>0.7526</td>\n",
       "    </tr>\n",
       "    <tr>\n",
       "      <th>Метрика F1 на тестовой выборке</th>\n",
       "      <td>0.7502</td>\n",
       "      <td>0.2527</td>\n",
       "      <td>0.7478</td>\n",
       "      <td>0.6996</td>\n",
       "      <td>0.7398</td>\n",
       "      <td>0.7428</td>\n",
       "    </tr>\n",
       "  </tbody>\n",
       "</table>\n",
       "</div>"
      ],
      "text/plain": [
       "                                     модель логистической регрессии (LogisticRegression)  \\\n",
       "Метрика F1 на обучающей выборке                                                 0.7569     \n",
       "Метрика F1 на валидационной выборке                                             0.7617     \n",
       "Метрика F1 на тестовой выборке                                                  0.7502     \n",
       "\n",
       "                                     модель \"случайный лес\" (RandomForestClassifier)  \\\n",
       "Метрика F1 на обучающей выборке                                               0.3998   \n",
       "Метрика F1 на валидационной выборке                                           0.2620   \n",
       "Метрика F1 на тестовой выборке                                                0.2527   \n",
       "\n",
       "                                     модель SGDClassifier  \\\n",
       "Метрика F1 на обучающей выборке                    0.7560   \n",
       "Метрика F1 на валидационной выборке                0.7574   \n",
       "Метрика F1 на тестовой выборке                     0.7478   \n",
       "\n",
       "                                     модель XGBClassifier  \\\n",
       "Метрика F1 на обучающей выборке                    0.6979   \n",
       "Метрика F1 на валидационной выборке                0.7090   \n",
       "Метрика F1 на тестовой выборке                     0.6996   \n",
       "\n",
       "                                     модель CatBoostClassifier   \\\n",
       "Метрика F1 на обучающей выборке                          0.7273   \n",
       "Метрика F1 на валидационной выборке                      0.7528   \n",
       "Метрика F1 на тестовой выборке                           0.7398   \n",
       "\n",
       "                                     модель LinearSVC  \n",
       "Метрика F1 на обучающей выборке                0.7493  \n",
       "Метрика F1 на валидационной выборке            0.7526  \n",
       "Метрика F1 на тестовой выборке                 0.7428  "
      ]
     },
     "metadata": {},
     "output_type": "display_data"
    }
   ],
   "source": [
    "itog_df = pd.DataFrame(itog, index=['Метрика F1 на обучающей выборке','Метрика F1 на валидационной выборке','Метрика F1 на тестовой выборке'])\n",
    "display(itog_df)"
   ]
  },
  {
   "cell_type": "markdown",
   "metadata": {},
   "source": [
    "Если выбирать по метрике F1 на валидационной выборке, то можно выделить следующие, подходящие под условие проекта (метрика F1 не менее 0.75) модели: модель логистической регрессии (LogisticRegression) (0.7617), модель SGDClassifier (0.7574), модель CatBoostClassifier (0.7528), модель LinearSVC (0.7526).\n",
    "\n",
    "Метрику F1 на тестовой выборке, удовлетворяющую условиям проекта (метрика F1 не менее 0.75), продемонстрировала модель логистической регрессии LogisticRegression (0.7502).\n",
    "\n",
    "Близкие к целевым результатам на тестовой выборки дали модели SGDClassifier (0.7478) и LinearSVC (0.7428). Неплохие результаты на тестовой выборке продемонстрировала модель CatBoostClassifier (0.7398), для которой можно было бы подобрать оптимальные гиперпараметры, однако из-за большого количества векторизированных признаков модель очень долго обучается.\n",
    "\n",
    "Модель Bert попробую проверить самостоятельно факультативно."
   ]
  },
  {
   "cell_type": "markdown",
   "metadata": {},
   "source": [
    "## Выводы"
   ]
  },
  {
   "cell_type": "markdown",
   "metadata": {},
   "source": [
    "В данном проекте на практике были применены модели машинного обучения для анализа текстов: \n",
    "- были лемматизированые и векторизированы тексты;\n",
    "- было выявлено, что дисбаланс оказывает влияние на качество обучения модели, и его устранение повышает метрику F1;\n",
    "- был выбран наилучший вариант устранения дисбаланса - с помощью балансирования весов моделей  (с расчетом баланса на классах исходной выборки);\n",
    "- исходные данные были разделены на обучающую, валидационную и тестовую выборки;\n",
    "- были подобраны, обучены и исследованы различные модели, подходящие для бинарной классификации;\n",
    "- была выделена подходящая под условие проекта (значение метрики F1 не ниже 0.75) модель логистическая регрессия (LogisticRegression)."
   ]
  }
 ],
 "metadata": {
  "ExecuteTimeLog": [
   {
    "duration": 1949,
    "start_time": "2022-05-13T09:29:18.558Z"
   },
   {
    "duration": 1008,
    "start_time": "2022-05-13T09:29:20.510Z"
   },
   {
    "duration": 6,
    "start_time": "2022-05-13T09:29:21.520Z"
   },
   {
    "duration": 8,
    "start_time": "2022-05-13T09:30:11.286Z"
   },
   {
    "duration": 684,
    "start_time": "2022-05-13T09:30:30.564Z"
   },
   {
    "duration": 161,
    "start_time": "2022-05-13T10:16:00.364Z"
   },
   {
    "duration": 137,
    "start_time": "2022-05-13T10:26:22.926Z"
   },
   {
    "duration": 171,
    "start_time": "2022-05-13T10:26:30.734Z"
   },
   {
    "duration": 129,
    "start_time": "2022-05-13T10:28:53.254Z"
   },
   {
    "duration": 7,
    "start_time": "2022-05-13T10:31:48.154Z"
   },
   {
    "duration": 913,
    "start_time": "2022-05-13T10:31:48.162Z"
   },
   {
    "duration": 6,
    "start_time": "2022-05-13T10:31:49.077Z"
   },
   {
    "duration": 672,
    "start_time": "2022-05-13T10:31:49.085Z"
   },
   {
    "duration": 146,
    "start_time": "2022-05-13T10:31:49.758Z"
   },
   {
    "duration": 116835,
    "start_time": "2022-05-13T10:31:54.446Z"
   },
   {
    "duration": 7,
    "start_time": "2022-05-13T10:35:28.233Z"
   },
   {
    "duration": 894,
    "start_time": "2022-05-13T10:35:28.250Z"
   },
   {
    "duration": 7,
    "start_time": "2022-05-13T10:35:29.147Z"
   },
   {
    "duration": 658,
    "start_time": "2022-05-13T10:35:29.156Z"
   },
   {
    "duration": 143,
    "start_time": "2022-05-13T10:35:29.816Z"
   },
   {
    "duration": 328,
    "start_time": "2022-05-13T10:35:29.962Z"
   },
   {
    "duration": 118765,
    "start_time": "2022-05-13T10:36:36.973Z"
   },
   {
    "duration": 120700,
    "start_time": "2022-05-13T11:43:12.079Z"
   },
   {
    "duration": 7,
    "start_time": "2022-05-13T11:57:58.157Z"
   },
   {
    "duration": 986,
    "start_time": "2022-05-13T11:57:58.167Z"
   },
   {
    "duration": 6,
    "start_time": "2022-05-13T11:57:59.157Z"
   },
   {
    "duration": 684,
    "start_time": "2022-05-13T11:57:59.165Z"
   },
   {
    "duration": 138,
    "start_time": "2022-05-13T11:57:59.851Z"
   },
   {
    "duration": 124837,
    "start_time": "2022-05-13T11:57:59.991Z"
   },
   {
    "duration": 6,
    "start_time": "2022-05-13T12:05:02.157Z"
   },
   {
    "duration": 939,
    "start_time": "2022-05-13T12:05:02.180Z"
   },
   {
    "duration": 7,
    "start_time": "2022-05-13T12:05:03.121Z"
   },
   {
    "duration": 705,
    "start_time": "2022-05-13T12:05:03.133Z"
   },
   {
    "duration": 225,
    "start_time": "2022-05-13T12:05:03.839Z"
   },
   {
    "duration": 116921,
    "start_time": "2022-05-13T12:05:04.066Z"
   },
   {
    "duration": 121,
    "start_time": "2022-05-13T12:07:00.990Z"
   },
   {
    "duration": 7,
    "start_time": "2022-05-13T12:20:07.669Z"
   },
   {
    "duration": 930,
    "start_time": "2022-05-13T12:20:07.678Z"
   },
   {
    "duration": 7,
    "start_time": "2022-05-13T12:20:08.610Z"
   },
   {
    "duration": 706,
    "start_time": "2022-05-13T12:20:08.618Z"
   },
   {
    "duration": 142,
    "start_time": "2022-05-13T12:20:09.337Z"
   },
   {
    "duration": 133232,
    "start_time": "2022-05-13T12:20:09.481Z"
   },
   {
    "duration": 238,
    "start_time": "2022-05-13T12:22:22.715Z"
   },
   {
    "duration": 18,
    "start_time": "2022-05-13T12:22:22.956Z"
   },
   {
    "duration": 201,
    "start_time": "2022-05-13T12:24:09.578Z"
   },
   {
    "duration": 239,
    "start_time": "2022-05-13T12:24:14.947Z"
   },
   {
    "duration": 6,
    "start_time": "2022-05-13T12:24:47.246Z"
   },
   {
    "duration": 13283,
    "start_time": "2022-05-13T12:24:51.761Z"
   },
   {
    "duration": 31,
    "start_time": "2022-05-13T12:28:07.522Z"
   },
   {
    "duration": 6,
    "start_time": "2022-05-13T12:28:16.887Z"
   },
   {
    "duration": 893,
    "start_time": "2022-05-13T12:28:16.895Z"
   },
   {
    "duration": 6,
    "start_time": "2022-05-13T12:28:17.790Z"
   },
   {
    "duration": 664,
    "start_time": "2022-05-13T12:28:17.798Z"
   },
   {
    "duration": 141,
    "start_time": "2022-05-13T12:28:18.465Z"
   },
   {
    "duration": 6,
    "start_time": "2022-05-13T12:30:33.469Z"
   },
   {
    "duration": 915,
    "start_time": "2022-05-13T12:30:33.476Z"
   },
   {
    "duration": 6,
    "start_time": "2022-05-13T12:30:34.393Z"
   },
   {
    "duration": 700,
    "start_time": "2022-05-13T12:30:34.401Z"
   },
   {
    "duration": 149,
    "start_time": "2022-05-13T12:30:35.103Z"
   },
   {
    "duration": 118203,
    "start_time": "2022-05-13T12:30:35.254Z"
   },
   {
    "duration": 176,
    "start_time": "2022-05-13T12:32:33.459Z"
   },
   {
    "duration": 4,
    "start_time": "2022-05-13T12:33:21.996Z"
   },
   {
    "duration": 53,
    "start_time": "2022-05-13T12:49:35.209Z"
   },
   {
    "duration": 1907,
    "start_time": "2022-05-13T12:50:00.321Z"
   },
   {
    "duration": 907,
    "start_time": "2022-05-13T12:50:02.230Z"
   },
   {
    "duration": 6,
    "start_time": "2022-05-13T12:50:03.139Z"
   },
   {
    "duration": 655,
    "start_time": "2022-05-13T12:50:03.148Z"
   },
   {
    "duration": 161,
    "start_time": "2022-05-13T12:50:03.805Z"
   },
   {
    "duration": 108280,
    "start_time": "2022-05-13T12:50:03.967Z"
   },
   {
    "duration": 97,
    "start_time": "2022-05-13T12:51:52.250Z"
   },
   {
    "duration": 12058,
    "start_time": "2022-05-13T12:51:52.349Z"
   },
   {
    "duration": 42,
    "start_time": "2022-05-13T12:52:04.408Z"
   },
   {
    "duration": 109,
    "start_time": "2022-05-13T12:52:04.453Z"
   },
   {
    "duration": 15,
    "start_time": "2022-05-13T12:52:29.047Z"
   },
   {
    "duration": 20,
    "start_time": "2022-05-13T12:53:10.935Z"
   },
   {
    "duration": 20,
    "start_time": "2022-05-13T12:53:35.693Z"
   },
   {
    "duration": 21,
    "start_time": "2022-05-13T12:53:42.733Z"
   },
   {
    "duration": 6,
    "start_time": "2022-05-13T12:54:26.891Z"
   },
   {
    "duration": 19,
    "start_time": "2022-05-13T12:54:34.572Z"
   },
   {
    "duration": 21,
    "start_time": "2022-05-13T12:54:40.694Z"
   },
   {
    "duration": 20,
    "start_time": "2022-05-13T12:55:03.397Z"
   },
   {
    "duration": 6,
    "start_time": "2022-05-13T12:55:50.907Z"
   },
   {
    "duration": 1370,
    "start_time": "2022-05-13T12:56:03.405Z"
   },
   {
    "duration": 2089,
    "start_time": "2022-05-13T18:18:18.860Z"
   },
   {
    "duration": 818,
    "start_time": "2022-05-13T18:18:20.951Z"
   },
   {
    "duration": 5,
    "start_time": "2022-05-13T18:18:21.771Z"
   },
   {
    "duration": 638,
    "start_time": "2022-05-13T18:18:21.778Z"
   },
   {
    "duration": 135,
    "start_time": "2022-05-13T18:18:22.418Z"
   },
   {
    "duration": 117731,
    "start_time": "2022-05-13T18:18:22.555Z"
   },
   {
    "duration": 60,
    "start_time": "2022-05-13T18:20:20.288Z"
   },
   {
    "duration": 238,
    "start_time": "2022-05-13T18:20:20.350Z"
   },
   {
    "duration": 26,
    "start_time": "2022-05-13T18:20:25.679Z"
   },
   {
    "duration": 206,
    "start_time": "2022-05-13T18:20:37.041Z"
   },
   {
    "duration": 32,
    "start_time": "2022-05-13T18:20:46.498Z"
   },
   {
    "duration": 2404,
    "start_time": "2022-05-13T18:20:57.127Z"
   },
   {
    "duration": 155,
    "start_time": "2022-05-13T18:22:01.565Z"
   },
   {
    "duration": 11,
    "start_time": "2022-05-13T18:23:32.731Z"
   },
   {
    "duration": 11,
    "start_time": "2022-05-13T18:24:36.021Z"
   },
   {
    "duration": 5,
    "start_time": "2022-05-13T18:29:58.495Z"
   },
   {
    "duration": 841,
    "start_time": "2022-05-13T18:29:58.502Z"
   },
   {
    "duration": 6,
    "start_time": "2022-05-13T18:29:59.345Z"
   },
   {
    "duration": 663,
    "start_time": "2022-05-13T18:29:59.352Z"
   },
   {
    "duration": 130,
    "start_time": "2022-05-13T18:30:00.018Z"
   },
   {
    "duration": 114567,
    "start_time": "2022-05-13T18:30:00.149Z"
   },
   {
    "duration": 108,
    "start_time": "2022-05-13T18:31:54.719Z"
   },
   {
    "duration": 68,
    "start_time": "2022-05-13T18:31:54.832Z"
   },
   {
    "duration": 18,
    "start_time": "2022-05-13T18:31:54.903Z"
   },
   {
    "duration": 2276,
    "start_time": "2022-05-13T18:31:54.922Z"
   },
   {
    "duration": 55,
    "start_time": "2022-05-13T18:31:57.200Z"
   },
   {
    "duration": 12090,
    "start_time": "2022-05-13T18:31:57.257Z"
   },
   {
    "duration": 6,
    "start_time": "2022-05-13T18:32:46.671Z"
   },
   {
    "duration": 769,
    "start_time": "2022-05-13T18:32:46.679Z"
   },
   {
    "duration": 5,
    "start_time": "2022-05-13T18:32:47.449Z"
   },
   {
    "duration": 635,
    "start_time": "2022-05-13T18:32:47.456Z"
   },
   {
    "duration": 137,
    "start_time": "2022-05-13T18:32:48.093Z"
   },
   {
    "duration": 103674,
    "start_time": "2022-05-13T18:32:48.232Z"
   },
   {
    "duration": 127,
    "start_time": "2022-05-13T18:34:31.908Z"
   },
   {
    "duration": 92,
    "start_time": "2022-05-13T18:34:32.040Z"
   },
   {
    "duration": 16,
    "start_time": "2022-05-13T18:34:32.135Z"
   },
   {
    "duration": 2332,
    "start_time": "2022-05-13T18:34:32.154Z"
   },
   {
    "duration": 61,
    "start_time": "2022-05-13T18:34:34.488Z"
   },
   {
    "duration": 16237,
    "start_time": "2022-05-13T18:34:34.550Z"
   },
   {
    "duration": 142,
    "start_time": "2022-05-13T18:44:11.715Z"
   },
   {
    "duration": 6,
    "start_time": "2022-05-13T18:45:13.729Z"
   },
   {
    "duration": 13,
    "start_time": "2022-05-13T18:46:06.470Z"
   },
   {
    "duration": 7,
    "start_time": "2022-05-13T18:46:48.672Z"
   },
   {
    "duration": 37281,
    "start_time": "2022-05-13T18:46:58.022Z"
   },
   {
    "duration": 46076,
    "start_time": "2022-05-13T18:48:26.528Z"
   },
   {
    "duration": 172623,
    "start_time": "2022-05-13T18:58:44.680Z"
   },
   {
    "duration": 183,
    "start_time": "2022-05-13T19:01:37.306Z"
   },
   {
    "duration": 0,
    "start_time": "2022-05-13T19:01:37.491Z"
   },
   {
    "duration": 239155,
    "start_time": "2022-05-13T19:02:44.972Z"
   },
   {
    "duration": 6,
    "start_time": "2022-05-13T19:12:15.189Z"
   },
   {
    "duration": 1176,
    "start_time": "2022-05-13T19:12:15.197Z"
   },
   {
    "duration": 8,
    "start_time": "2022-05-13T19:12:16.375Z"
   },
   {
    "duration": 600,
    "start_time": "2022-05-13T19:12:16.385Z"
   },
   {
    "duration": 119,
    "start_time": "2022-05-13T19:12:16.988Z"
   },
   {
    "duration": 118587,
    "start_time": "2022-05-13T19:12:17.111Z"
   },
   {
    "duration": 136,
    "start_time": "2022-05-13T19:14:15.700Z"
   },
   {
    "duration": 101,
    "start_time": "2022-05-13T19:14:15.840Z"
   },
   {
    "duration": 14,
    "start_time": "2022-05-13T19:14:15.943Z"
   },
   {
    "duration": 2443,
    "start_time": "2022-05-13T19:14:15.958Z"
   },
   {
    "duration": 66,
    "start_time": "2022-05-13T19:14:18.403Z"
   },
   {
    "duration": 12840,
    "start_time": "2022-05-13T19:14:18.471Z"
   },
   {
    "duration": 158230,
    "start_time": "2022-05-13T19:14:31.313Z"
   },
   {
    "duration": 55359,
    "start_time": "2022-05-13T19:17:09.546Z"
   },
   {
    "duration": 184195,
    "start_time": "2022-05-13T19:18:04.907Z"
   },
   {
    "duration": 245797,
    "start_time": "2022-05-13T19:21:09.104Z"
   },
   {
    "duration": 207803,
    "start_time": "2022-05-13T19:25:14.908Z"
   },
   {
    "duration": 20,
    "start_time": "2022-05-13T19:28:42.715Z"
   },
   {
    "duration": 2065,
    "start_time": "2022-05-13T19:29:37.472Z"
   },
   {
    "duration": 13,
    "start_time": "2022-05-13T19:29:58.544Z"
   },
   {
    "duration": 188,
    "start_time": "2022-05-13T19:37:23.494Z"
   },
   {
    "duration": 9,
    "start_time": "2022-05-13T19:37:40.449Z"
   },
   {
    "duration": 16,
    "start_time": "2022-05-13T19:38:24.698Z"
   },
   {
    "duration": 5,
    "start_time": "2022-05-13T19:38:39.572Z"
   },
   {
    "duration": 737,
    "start_time": "2022-05-13T19:38:39.579Z"
   },
   {
    "duration": 7,
    "start_time": "2022-05-13T19:38:40.318Z"
   },
   {
    "duration": 841,
    "start_time": "2022-05-13T19:38:40.328Z"
   },
   {
    "duration": 183,
    "start_time": "2022-05-13T19:38:41.172Z"
   },
   {
    "duration": 113365,
    "start_time": "2022-05-13T19:38:41.357Z"
   },
   {
    "duration": 108,
    "start_time": "2022-05-13T19:40:34.724Z"
   },
   {
    "duration": 71,
    "start_time": "2022-05-13T19:40:34.836Z"
   },
   {
    "duration": 20,
    "start_time": "2022-05-13T19:40:34.909Z"
   },
   {
    "duration": 2611,
    "start_time": "2022-05-13T19:40:34.931Z"
   },
   {
    "duration": 94,
    "start_time": "2022-05-13T19:40:37.546Z"
   },
   {
    "duration": 13313,
    "start_time": "2022-05-13T19:40:37.643Z"
   },
   {
    "duration": 198848,
    "start_time": "2022-05-13T19:40:50.958Z"
   },
   {
    "duration": 52317,
    "start_time": "2022-05-13T19:44:09.808Z"
   },
   {
    "duration": 187383,
    "start_time": "2022-05-13T19:45:02.128Z"
   },
   {
    "duration": 238997,
    "start_time": "2022-05-13T19:48:09.517Z"
   },
   {
    "duration": 83,
    "start_time": "2022-05-13T19:52:08.517Z"
   },
   {
    "duration": 46221,
    "start_time": "2022-05-13T19:52:08.603Z"
   },
   {
    "duration": 7,
    "start_time": "2022-05-13T19:53:31.758Z"
   },
   {
    "duration": 52407,
    "start_time": "2022-05-13T19:53:41.119Z"
   },
   {
    "duration": 0,
    "start_time": "2022-05-13T19:54:33.604Z"
   },
   {
    "duration": 107680,
    "start_time": "2022-05-13T19:56:14.052Z"
   },
   {
    "duration": 246,
    "start_time": "2022-05-13T19:58:01.734Z"
   },
   {
    "duration": 102833,
    "start_time": "2022-05-13T20:03:00.386Z"
   },
   {
    "duration": 189,
    "start_time": "2022-05-13T20:06:52.635Z"
   },
   {
    "duration": 8,
    "start_time": "2022-05-13T20:06:53.896Z"
   },
   {
    "duration": 171,
    "start_time": "2022-05-13T20:25:10.624Z"
   },
   {
    "duration": 469155,
    "start_time": "2022-05-13T20:25:22.670Z"
   },
   {
    "duration": 3,
    "start_time": "2022-05-13T20:36:30.261Z"
   },
   {
    "duration": 24373,
    "start_time": "2022-05-13T20:37:16.744Z"
   },
   {
    "duration": 211305,
    "start_time": "2022-05-13T20:37:43.097Z"
   },
   {
    "duration": 168,
    "start_time": "2022-05-13T20:43:55.729Z"
   },
   {
    "duration": 21865,
    "start_time": "2022-05-13T20:44:10.953Z"
   },
   {
    "duration": 79,
    "start_time": "2022-05-13T20:45:47.367Z"
   },
   {
    "duration": 176,
    "start_time": "2022-05-13T20:46:02.600Z"
   },
   {
    "duration": 16,
    "start_time": "2022-05-13T20:46:35.043Z"
   },
   {
    "duration": 655433,
    "start_time": "2022-05-13T20:46:50.424Z"
   },
   {
    "duration": 158,
    "start_time": "2022-05-13T20:57:45.859Z"
   },
   {
    "duration": 508585,
    "start_time": "2022-05-13T20:58:09.049Z"
   },
   {
    "duration": 161,
    "start_time": "2022-05-13T21:06:37.635Z"
   },
   {
    "duration": 272951,
    "start_time": "2022-05-13T21:06:40.176Z"
   },
   {
    "duration": 4961,
    "start_time": "2022-05-13T21:11:13.129Z"
   },
   {
    "duration": 1682,
    "start_time": "2022-05-13T21:12:07.614Z"
   },
   {
    "duration": 741,
    "start_time": "2022-05-13T21:12:09.298Z"
   },
   {
    "duration": 5,
    "start_time": "2022-05-13T21:12:10.041Z"
   },
   {
    "duration": 592,
    "start_time": "2022-05-13T21:12:10.049Z"
   },
   {
    "duration": 117,
    "start_time": "2022-05-13T21:12:10.643Z"
   },
   {
    "duration": 91901,
    "start_time": "2022-05-13T21:12:10.762Z"
   },
   {
    "duration": 10,
    "start_time": "2022-05-13T21:13:42.664Z"
   },
   {
    "duration": 59,
    "start_time": "2022-05-13T21:13:42.676Z"
   },
   {
    "duration": 10,
    "start_time": "2022-05-13T21:13:42.737Z"
   },
   {
    "duration": 2185,
    "start_time": "2022-05-13T21:13:42.749Z"
   },
   {
    "duration": 32,
    "start_time": "2022-05-13T21:13:44.936Z"
   },
   {
    "duration": 10647,
    "start_time": "2022-05-13T21:13:44.970Z"
   },
   {
    "duration": 161089,
    "start_time": "2022-05-13T21:13:55.618Z"
   },
   {
    "duration": 33792,
    "start_time": "2022-05-13T21:16:36.709Z"
   },
   {
    "duration": 149099,
    "start_time": "2022-05-13T21:17:10.503Z"
   },
   {
    "duration": 202101,
    "start_time": "2022-05-13T21:19:39.603Z"
   },
   {
    "duration": 9,
    "start_time": "2022-05-13T21:23:01.705Z"
   },
   {
    "duration": 84701,
    "start_time": "2022-05-13T21:23:01.715Z"
   },
   {
    "duration": 207,
    "start_time": "2022-05-13T21:24:26.418Z"
   },
   {
    "duration": 8,
    "start_time": "2022-05-13T21:24:26.627Z"
   },
   {
    "duration": 14,
    "start_time": "2022-05-13T21:24:26.637Z"
   },
   {
    "duration": 133257,
    "start_time": "2022-05-13T21:24:26.653Z"
   },
   {
    "duration": 26222,
    "start_time": "2022-05-13T21:26:39.912Z"
   },
   {
    "duration": 271706,
    "start_time": "2022-05-13T21:27:06.135Z"
   },
   {
    "duration": 5170,
    "start_time": "2022-05-13T21:31:37.843Z"
   },
   {
    "duration": 151,
    "start_time": "2022-05-13T21:31:43.015Z"
   },
   {
    "duration": 0,
    "start_time": "2022-05-13T21:31:43.168Z"
   },
   {
    "duration": 0,
    "start_time": "2022-05-13T21:31:43.170Z"
   },
   {
    "duration": 0,
    "start_time": "2022-05-13T21:31:43.171Z"
   },
   {
    "duration": 13,
    "start_time": "2022-05-13T21:34:52.295Z"
   },
   {
    "duration": 294,
    "start_time": "2022-05-13T21:35:32.402Z"
   },
   {
    "duration": 36,
    "start_time": "2022-05-13T21:35:52.260Z"
   },
   {
    "duration": 77862,
    "start_time": "2022-05-13T21:41:44.633Z"
   },
   {
    "duration": 2390,
    "start_time": "2022-05-13T21:54:03.959Z"
   },
   {
    "duration": 179,
    "start_time": "2022-05-13T21:54:58.038Z"
   },
   {
    "duration": 37062,
    "start_time": "2022-05-13T21:55:35.329Z"
   },
   {
    "duration": 45635,
    "start_time": "2022-05-13T21:56:22.756Z"
   },
   {
    "duration": 34,
    "start_time": "2022-05-13T22:01:02.562Z"
   },
   {
    "duration": 88,
    "start_time": "2022-05-13T22:01:39.177Z"
   },
   {
    "duration": 177,
    "start_time": "2022-05-13T22:02:52.865Z"
   },
   {
    "duration": 161563,
    "start_time": "2022-05-13T22:03:12.024Z"
   },
   {
    "duration": 39536,
    "start_time": "2022-05-13T22:10:30.074Z"
   },
   {
    "duration": 192401,
    "start_time": "2022-05-13T22:12:25.081Z"
   },
   {
    "duration": 193804,
    "start_time": "2022-05-13T22:17:01.552Z"
   },
   {
    "duration": 30362,
    "start_time": "2022-05-13T22:20:22.199Z"
   },
   {
    "duration": 164121,
    "start_time": "2022-05-13T22:21:18.315Z"
   },
   {
    "duration": 1433,
    "start_time": "2022-05-13T22:24:54.034Z"
   },
   {
    "duration": 0,
    "start_time": "2022-05-13T22:33:51.234Z"
   },
   {
    "duration": 12657,
    "start_time": "2022-05-13T22:34:30.354Z"
   },
   {
    "duration": 12663,
    "start_time": "2022-05-13T22:37:04.642Z"
   },
   {
    "duration": 1888,
    "start_time": "2022-05-13T22:44:19.341Z"
   },
   {
    "duration": 12512,
    "start_time": "2022-05-13T22:46:04.599Z"
   },
   {
    "duration": 254549,
    "start_time": "2022-05-13T22:46:29.954Z"
   },
   {
    "duration": 697317,
    "start_time": "2022-05-13T22:50:58.901Z"
   },
   {
    "duration": 168283,
    "start_time": "2022-05-13T23:02:43.037Z"
   },
   {
    "duration": 13296,
    "start_time": "2022-05-13T23:05:45.510Z"
   },
   {
    "duration": 13195,
    "start_time": "2022-05-13T23:06:16.517Z"
   },
   {
    "duration": 8975,
    "start_time": "2022-05-13T23:06:52.032Z"
   },
   {
    "duration": 44847,
    "start_time": "2022-05-13T23:07:11.778Z"
   },
   {
    "duration": 9119,
    "start_time": "2022-05-13T23:08:03.584Z"
   },
   {
    "duration": 8897,
    "start_time": "2022-05-13T23:08:20.515Z"
   },
   {
    "duration": 909,
    "start_time": "2022-05-13T23:08:39.926Z"
   },
   {
    "duration": 9045,
    "start_time": "2022-05-13T23:08:57.458Z"
   },
   {
    "duration": 94583,
    "start_time": "2022-05-13T23:09:35.519Z"
   },
   {
    "duration": 155936,
    "start_time": "2022-05-13T23:11:17.375Z"
   },
   {
    "duration": 15465,
    "start_time": "2022-05-13T23:14:00.647Z"
   },
   {
    "duration": 1740,
    "start_time": "2022-05-13T23:26:45.691Z"
   },
   {
    "duration": 713,
    "start_time": "2022-05-13T23:26:47.433Z"
   },
   {
    "duration": 5,
    "start_time": "2022-05-13T23:26:48.148Z"
   },
   {
    "duration": 541,
    "start_time": "2022-05-13T23:26:48.154Z"
   },
   {
    "duration": 111,
    "start_time": "2022-05-13T23:26:48.700Z"
   },
   {
    "duration": 91999,
    "start_time": "2022-05-13T23:26:48.812Z"
   },
   {
    "duration": 10,
    "start_time": "2022-05-13T23:28:20.813Z"
   },
   {
    "duration": 35,
    "start_time": "2022-05-13T23:28:20.824Z"
   },
   {
    "duration": 9,
    "start_time": "2022-05-13T23:28:20.861Z"
   },
   {
    "duration": 2199,
    "start_time": "2022-05-13T23:28:20.873Z"
   },
   {
    "duration": 39,
    "start_time": "2022-05-13T23:28:23.074Z"
   },
   {
    "duration": 10406,
    "start_time": "2022-05-13T23:28:23.115Z"
   },
   {
    "duration": 162381,
    "start_time": "2022-05-13T23:28:33.523Z"
   },
   {
    "duration": 40994,
    "start_time": "2022-05-13T23:31:15.906Z"
   },
   {
    "duration": 149413,
    "start_time": "2022-05-13T23:31:56.902Z"
   },
   {
    "duration": 204194,
    "start_time": "2022-05-13T23:34:26.316Z"
   },
   {
    "duration": 95,
    "start_time": "2022-05-13T23:37:50.513Z"
   },
   {
    "duration": 86602,
    "start_time": "2022-05-13T23:37:50.609Z"
   },
   {
    "duration": 211,
    "start_time": "2022-05-13T23:39:17.213Z"
   },
   {
    "duration": 8,
    "start_time": "2022-05-13T23:39:17.426Z"
   },
   {
    "duration": 32,
    "start_time": "2022-05-13T23:39:17.435Z"
   },
   {
    "duration": 1776,
    "start_time": "2022-05-13T23:42:08.392Z"
   },
   {
    "duration": 706,
    "start_time": "2022-05-13T23:42:10.171Z"
   },
   {
    "duration": 5,
    "start_time": "2022-05-13T23:42:10.878Z"
   },
   {
    "duration": 542,
    "start_time": "2022-05-13T23:42:10.885Z"
   },
   {
    "duration": 119,
    "start_time": "2022-05-13T23:42:11.429Z"
   },
   {
    "duration": 91242,
    "start_time": "2022-05-13T23:42:11.550Z"
   },
   {
    "duration": 12,
    "start_time": "2022-05-13T23:43:42.794Z"
   },
   {
    "duration": 29,
    "start_time": "2022-05-13T23:43:42.808Z"
   },
   {
    "duration": 11,
    "start_time": "2022-05-13T23:43:42.839Z"
   },
   {
    "duration": 2301,
    "start_time": "2022-05-13T23:43:42.853Z"
   },
   {
    "duration": 32,
    "start_time": "2022-05-13T23:43:45.156Z"
   },
   {
    "duration": 10528,
    "start_time": "2022-05-13T23:43:45.190Z"
   },
   {
    "duration": 161089,
    "start_time": "2022-05-13T23:43:55.720Z"
   },
   {
    "duration": 37205,
    "start_time": "2022-05-13T23:46:36.901Z"
   },
   {
    "duration": 150894,
    "start_time": "2022-05-13T23:47:14.110Z"
   },
   {
    "duration": 201196,
    "start_time": "2022-05-13T23:49:45.006Z"
   },
   {
    "duration": 8,
    "start_time": "2022-05-13T23:53:06.203Z"
   },
   {
    "duration": 87404,
    "start_time": "2022-05-13T23:53:06.213Z"
   },
   {
    "duration": 197,
    "start_time": "2022-05-13T23:54:33.619Z"
   },
   {
    "duration": 8,
    "start_time": "2022-05-13T23:54:33.817Z"
   },
   {
    "duration": 5,
    "start_time": "2022-05-13T23:54:33.827Z"
   },
   {
    "duration": 133177,
    "start_time": "2022-05-13T23:54:33.834Z"
   },
   {
    "duration": 26320,
    "start_time": "2022-05-13T23:56:47.013Z"
   },
   {
    "duration": 205380,
    "start_time": "2022-05-13T23:57:13.335Z"
   },
   {
    "duration": 2889,
    "start_time": "2022-05-14T00:00:38.717Z"
   },
   {
    "duration": 166369,
    "start_time": "2022-05-14T00:00:41.607Z"
   },
   {
    "duration": 1425,
    "start_time": "2022-05-14T00:03:27.977Z"
   },
   {
    "duration": 192710,
    "start_time": "2022-05-14T00:03:29.405Z"
   },
   {
    "duration": 15805,
    "start_time": "2022-05-14T00:06:42.117Z"
   },
   {
    "duration": 1752,
    "start_time": "2022-05-14T02:27:49.234Z"
   },
   {
    "duration": 706,
    "start_time": "2022-05-14T02:27:50.988Z"
   },
   {
    "duration": 5,
    "start_time": "2022-05-14T02:27:51.696Z"
   },
   {
    "duration": 552,
    "start_time": "2022-05-14T02:27:51.703Z"
   },
   {
    "duration": 115,
    "start_time": "2022-05-14T02:27:52.257Z"
   },
   {
    "duration": 91340,
    "start_time": "2022-05-14T02:27:52.374Z"
   },
   {
    "duration": 8,
    "start_time": "2022-05-14T02:29:23.716Z"
   },
   {
    "duration": 29,
    "start_time": "2022-05-14T02:29:23.726Z"
   },
   {
    "duration": 9,
    "start_time": "2022-05-14T02:29:23.757Z"
   },
   {
    "duration": 2211,
    "start_time": "2022-05-14T02:29:23.768Z"
   },
   {
    "duration": 40,
    "start_time": "2022-05-14T02:29:25.981Z"
   },
   {
    "duration": 10429,
    "start_time": "2022-05-14T02:29:26.022Z"
   },
   {
    "duration": 161356,
    "start_time": "2022-05-14T02:29:36.453Z"
   },
   {
    "duration": 30497,
    "start_time": "2022-05-14T02:32:17.811Z"
   },
   {
    "duration": 153396,
    "start_time": "2022-05-14T02:32:48.310Z"
   },
   {
    "duration": 201309,
    "start_time": "2022-05-14T02:35:21.707Z"
   },
   {
    "duration": 8,
    "start_time": "2022-05-14T02:38:43.101Z"
   },
   {
    "duration": 86211,
    "start_time": "2022-05-14T02:38:43.110Z"
   },
   {
    "duration": 196,
    "start_time": "2022-05-14T02:40:09.323Z"
   },
   {
    "duration": 8,
    "start_time": "2022-05-14T02:40:09.520Z"
   },
   {
    "duration": 5,
    "start_time": "2022-05-14T02:40:09.529Z"
   },
   {
    "duration": 135075,
    "start_time": "2022-05-14T02:40:09.536Z"
   },
   {
    "duration": 26117,
    "start_time": "2022-05-14T02:42:24.613Z"
   },
   {
    "duration": 200769,
    "start_time": "2022-05-14T02:42:50.732Z"
   },
   {
    "duration": 2685,
    "start_time": "2022-05-14T02:46:11.503Z"
   },
   {
    "duration": 159905,
    "start_time": "2022-05-14T02:46:14.190Z"
   },
   {
    "duration": 1381,
    "start_time": "2022-05-14T02:48:54.100Z"
   },
   {
    "duration": 191528,
    "start_time": "2022-05-14T02:48:55.484Z"
   },
   {
    "duration": 16111,
    "start_time": "2022-05-14T02:52:07.014Z"
   },
   {
    "duration": 512890,
    "start_time": "2022-05-14T02:52:23.201Z"
   },
   {
    "duration": 45996,
    "start_time": "2022-05-14T03:00:56.092Z"
   },
   {
    "duration": 12,
    "start_time": "2022-05-14T03:01:42.090Z"
   },
   {
    "duration": 1525527,
    "start_time": "2022-05-14T03:01:42.104Z"
   },
   {
    "duration": 8,
    "start_time": "2022-05-14T03:27:07.633Z"
   },
   {
    "duration": 9,
    "start_time": "2022-05-14T04:25:53.593Z"
   },
   {
    "duration": 3,
    "start_time": "2022-05-14T04:26:59.382Z"
   },
   {
    "duration": 3,
    "start_time": "2022-05-14T04:27:18.699Z"
   },
   {
    "duration": 3,
    "start_time": "2022-05-14T04:27:33.032Z"
   },
   {
    "duration": 4,
    "start_time": "2022-05-14T04:27:49.736Z"
   },
   {
    "duration": 3,
    "start_time": "2022-05-14T04:28:14.138Z"
   },
   {
    "duration": 8,
    "start_time": "2022-05-14T04:28:16.771Z"
   },
   {
    "duration": 6,
    "start_time": "2022-05-14T04:33:21.712Z"
   },
   {
    "duration": 709,
    "start_time": "2022-05-14T04:33:21.720Z"
   },
   {
    "duration": 5,
    "start_time": "2022-05-14T04:33:22.431Z"
   },
   {
    "duration": 542,
    "start_time": "2022-05-14T04:33:22.437Z"
   },
   {
    "duration": 109,
    "start_time": "2022-05-14T04:33:22.982Z"
   },
   {
    "duration": 94585,
    "start_time": "2022-05-14T04:33:23.100Z"
   },
   {
    "duration": 40,
    "start_time": "2022-05-14T04:34:57.686Z"
   },
   {
    "duration": 38,
    "start_time": "2022-05-14T04:34:57.729Z"
   },
   {
    "duration": 9,
    "start_time": "2022-05-14T04:34:57.769Z"
   },
   {
    "duration": 2350,
    "start_time": "2022-05-14T04:34:57.780Z"
   },
   {
    "duration": 32,
    "start_time": "2022-05-14T04:35:00.131Z"
   },
   {
    "duration": 10881,
    "start_time": "2022-05-14T04:35:00.165Z"
   },
   {
    "duration": 1869,
    "start_time": "2022-05-14T20:21:11.040Z"
   },
   {
    "duration": 706,
    "start_time": "2022-05-14T20:21:12.911Z"
   },
   {
    "duration": 6,
    "start_time": "2022-05-14T20:21:13.618Z"
   },
   {
    "duration": 590,
    "start_time": "2022-05-14T20:21:13.625Z"
   },
   {
    "duration": 125,
    "start_time": "2022-05-14T20:21:14.217Z"
   },
   {
    "duration": 92501,
    "start_time": "2022-05-14T20:21:24.741Z"
   },
   {
    "duration": 5,
    "start_time": "2022-05-14T20:29:00.139Z"
   },
   {
    "duration": 731,
    "start_time": "2022-05-14T20:29:00.146Z"
   },
   {
    "duration": 5,
    "start_time": "2022-05-14T20:29:00.879Z"
   },
   {
    "duration": 564,
    "start_time": "2022-05-14T20:29:00.885Z"
   },
   {
    "duration": 112,
    "start_time": "2022-05-14T20:29:01.451Z"
   },
   {
    "duration": 592,
    "start_time": "2022-05-14T20:29:13.364Z"
   },
   {
    "duration": 115910,
    "start_time": "2022-05-14T20:29:24.345Z"
   },
   {
    "duration": 126643,
    "start_time": "2022-05-14T20:31:47.403Z"
   },
   {
    "duration": 5,
    "start_time": "2022-05-14T20:54:59.131Z"
   },
   {
    "duration": 676,
    "start_time": "2022-05-14T20:54:59.137Z"
   },
   {
    "duration": 5,
    "start_time": "2022-05-14T20:54:59.815Z"
   },
   {
    "duration": 579,
    "start_time": "2022-05-14T20:54:59.821Z"
   },
   {
    "duration": 114,
    "start_time": "2022-05-14T20:55:00.402Z"
   },
   {
    "duration": 117843,
    "start_time": "2022-05-14T20:55:00.517Z"
   },
   {
    "duration": 43,
    "start_time": "2022-05-14T20:56:58.362Z"
   },
   {
    "duration": 47,
    "start_time": "2022-05-14T20:56:58.407Z"
   },
   {
    "duration": 123,
    "start_time": "2022-05-14T20:57:26.965Z"
   },
   {
    "duration": 2,
    "start_time": "2022-05-14T20:57:34.270Z"
   },
   {
    "duration": 3148,
    "start_time": "2022-05-14T20:57:38.104Z"
   },
   {
    "duration": 6097,
    "start_time": "2022-05-14T20:58:16.182Z"
   },
   {
    "duration": 33,
    "start_time": "2022-05-14T20:59:09.304Z"
   },
   {
    "duration": 5,
    "start_time": "2022-05-14T20:59:19.829Z"
   },
   {
    "duration": 713,
    "start_time": "2022-05-14T20:59:19.836Z"
   },
   {
    "duration": 6,
    "start_time": "2022-05-14T20:59:20.550Z"
   },
   {
    "duration": 591,
    "start_time": "2022-05-14T20:59:20.557Z"
   },
   {
    "duration": 112,
    "start_time": "2022-05-14T20:59:21.150Z"
   },
   {
    "duration": 117550,
    "start_time": "2022-05-14T20:59:21.263Z"
   },
   {
    "duration": 37,
    "start_time": "2022-05-14T21:01:18.815Z"
   },
   {
    "duration": 59,
    "start_time": "2022-05-14T21:01:18.853Z"
   },
   {
    "duration": 5996,
    "start_time": "2022-05-14T21:01:18.914Z"
   },
   {
    "duration": 183,
    "start_time": "2022-05-14T21:01:24.912Z"
   },
   {
    "duration": 3,
    "start_time": "2022-05-14T21:01:25.097Z"
   },
   {
    "duration": 711,
    "start_time": "2022-05-14T21:01:25.101Z"
   },
   {
    "duration": 5,
    "start_time": "2022-05-14T21:04:32.291Z"
   },
   {
    "duration": 678,
    "start_time": "2022-05-14T21:04:32.298Z"
   },
   {
    "duration": 5,
    "start_time": "2022-05-14T21:04:32.978Z"
   },
   {
    "duration": 576,
    "start_time": "2022-05-14T21:04:32.985Z"
   },
   {
    "duration": 114,
    "start_time": "2022-05-14T21:04:33.563Z"
   },
   {
    "duration": 117232,
    "start_time": "2022-05-14T21:04:33.679Z"
   },
   {
    "duration": 37,
    "start_time": "2022-05-14T21:06:30.913Z"
   },
   {
    "duration": 62,
    "start_time": "2022-05-14T21:06:30.951Z"
   },
   {
    "duration": 5997,
    "start_time": "2022-05-14T21:06:31.015Z"
   },
   {
    "duration": 185,
    "start_time": "2022-05-14T21:06:37.014Z"
   },
   {
    "duration": 3,
    "start_time": "2022-05-14T21:06:37.201Z"
   },
   {
    "duration": 728,
    "start_time": "2022-05-14T21:06:37.206Z"
   },
   {
    "duration": 18,
    "start_time": "2022-05-14T21:09:15.483Z"
   },
   {
    "duration": 15,
    "start_time": "2022-05-14T21:09:48.919Z"
   },
   {
    "duration": 5,
    "start_time": "2022-05-14T21:10:50.484Z"
   },
   {
    "duration": 681,
    "start_time": "2022-05-14T21:10:50.490Z"
   },
   {
    "duration": 5,
    "start_time": "2022-05-14T21:10:51.173Z"
   },
   {
    "duration": 569,
    "start_time": "2022-05-14T21:10:51.179Z"
   },
   {
    "duration": 109,
    "start_time": "2022-05-14T21:10:51.750Z"
   },
   {
    "duration": 116640,
    "start_time": "2022-05-14T21:10:51.860Z"
   },
   {
    "duration": 37,
    "start_time": "2022-05-14T21:12:48.502Z"
   },
   {
    "duration": 61,
    "start_time": "2022-05-14T21:12:48.541Z"
   },
   {
    "duration": 5998,
    "start_time": "2022-05-14T21:12:48.603Z"
   },
   {
    "duration": 54,
    "start_time": "2022-05-14T21:13:15.722Z"
   },
   {
    "duration": 21,
    "start_time": "2022-05-14T21:13:19.286Z"
   },
   {
    "duration": 694,
    "start_time": "2022-05-14T21:13:34.482Z"
   },
   {
    "duration": 50,
    "start_time": "2022-05-14T21:14:42.988Z"
   },
   {
    "duration": 4,
    "start_time": "2022-05-14T21:14:44.481Z"
   },
   {
    "duration": 691,
    "start_time": "2022-05-14T21:15:22.327Z"
   },
   {
    "duration": 167,
    "start_time": "2022-05-14T21:17:41.527Z"
   },
   {
    "duration": 94272,
    "start_time": "2022-05-14T21:20:04.108Z"
   },
   {
    "duration": 172157,
    "start_time": "2022-05-14T21:34:58.414Z"
   },
   {
    "duration": 117,
    "start_time": "2022-05-14T21:41:42.881Z"
   },
   {
    "duration": 6,
    "start_time": "2022-05-14T21:54:20.352Z"
   },
   {
    "duration": 745,
    "start_time": "2022-05-14T21:54:20.360Z"
   },
   {
    "duration": 6,
    "start_time": "2022-05-14T21:54:21.107Z"
   },
   {
    "duration": 593,
    "start_time": "2022-05-14T21:54:21.115Z"
   },
   {
    "duration": 119,
    "start_time": "2022-05-14T21:54:21.711Z"
   },
   {
    "duration": 116957,
    "start_time": "2022-05-14T21:54:21.832Z"
   },
   {
    "duration": 28,
    "start_time": "2022-05-14T21:56:18.791Z"
   },
   {
    "duration": 55,
    "start_time": "2022-05-14T21:56:18.821Z"
   },
   {
    "duration": 7377,
    "start_time": "2022-05-14T21:56:18.878Z"
   },
   {
    "duration": 102,
    "start_time": "2022-05-14T21:56:26.258Z"
   },
   {
    "duration": 778,
    "start_time": "2022-05-14T21:56:26.370Z"
   },
   {
    "duration": 173229,
    "start_time": "2022-05-14T21:56:27.149Z"
   },
   {
    "duration": 162602,
    "start_time": "2022-05-14T21:59:20.380Z"
   },
   {
    "duration": 31086,
    "start_time": "2022-05-14T22:02:02.985Z"
   },
   {
    "duration": 201806,
    "start_time": "2022-05-14T22:02:34.073Z"
   },
   {
    "duration": 95,
    "start_time": "2022-05-14T22:05:55.881Z"
   },
   {
    "duration": 37103,
    "start_time": "2022-05-14T22:05:55.978Z"
   },
   {
    "duration": 0,
    "start_time": "2022-05-14T22:06:33.171Z"
   },
   {
    "duration": 0,
    "start_time": "2022-05-14T22:06:33.173Z"
   },
   {
    "duration": 0,
    "start_time": "2022-05-14T22:06:33.174Z"
   },
   {
    "duration": 0,
    "start_time": "2022-05-14T22:06:33.175Z"
   },
   {
    "duration": 0,
    "start_time": "2022-05-14T22:06:33.176Z"
   },
   {
    "duration": 0,
    "start_time": "2022-05-14T22:06:33.177Z"
   },
   {
    "duration": 0,
    "start_time": "2022-05-14T22:06:33.178Z"
   },
   {
    "duration": 0,
    "start_time": "2022-05-14T22:06:33.179Z"
   },
   {
    "duration": 0,
    "start_time": "2022-05-14T22:06:33.180Z"
   },
   {
    "duration": 0,
    "start_time": "2022-05-14T22:06:33.181Z"
   },
   {
    "duration": 0,
    "start_time": "2022-05-14T22:06:33.182Z"
   },
   {
    "duration": 0,
    "start_time": "2022-05-14T22:06:33.183Z"
   },
   {
    "duration": 0,
    "start_time": "2022-05-14T22:06:33.184Z"
   },
   {
    "duration": 2833,
    "start_time": "2022-05-15T12:25:12.145Z"
   },
   {
    "duration": 1133,
    "start_time": "2022-05-15T12:25:14.982Z"
   },
   {
    "duration": 8,
    "start_time": "2022-05-15T12:25:16.117Z"
   },
   {
    "duration": 740,
    "start_time": "2022-05-15T12:25:16.128Z"
   },
   {
    "duration": 231,
    "start_time": "2022-05-15T12:25:16.874Z"
   },
   {
    "duration": 214167,
    "start_time": "2022-05-15T12:25:17.107Z"
   },
   {
    "duration": 10,
    "start_time": "2022-05-15T12:28:51.277Z"
   },
   {
    "duration": 32,
    "start_time": "2022-05-15T12:28:51.289Z"
   },
   {
    "duration": 10055,
    "start_time": "2022-05-15T12:28:51.323Z"
   },
   {
    "duration": 38,
    "start_time": "2022-05-15T12:29:01.381Z"
   },
   {
    "duration": 229,
    "start_time": "2022-05-15T12:29:01.421Z"
   },
   {
    "duration": 15,
    "start_time": "2022-05-15T12:29:58.232Z"
   },
   {
    "duration": 16,
    "start_time": "2022-05-15T12:31:10.909Z"
   },
   {
    "duration": 8,
    "start_time": "2022-05-15T12:32:23.993Z"
   },
   {
    "duration": 991,
    "start_time": "2022-05-15T12:32:24.004Z"
   },
   {
    "duration": 7,
    "start_time": "2022-05-15T12:32:24.998Z"
   },
   {
    "duration": 692,
    "start_time": "2022-05-15T12:32:25.007Z"
   },
   {
    "duration": 211,
    "start_time": "2022-05-15T12:32:25.702Z"
   },
   {
    "duration": 215363,
    "start_time": "2022-05-15T12:32:25.915Z"
   },
   {
    "duration": 20,
    "start_time": "2022-05-15T12:36:01.281Z"
   },
   {
    "duration": 61,
    "start_time": "2022-05-15T12:36:01.304Z"
   },
   {
    "duration": 10362,
    "start_time": "2022-05-15T12:36:01.368Z"
   },
   {
    "duration": 70,
    "start_time": "2022-05-15T12:36:11.732Z"
   },
   {
    "duration": 5,
    "start_time": "2022-05-15T12:36:11.805Z"
   },
   {
    "duration": 15,
    "start_time": "2022-05-15T12:36:37.937Z"
   },
   {
    "duration": 1053,
    "start_time": "2022-05-15T12:37:22.702Z"
   },
   {
    "duration": 238731,
    "start_time": "2022-05-15T12:37:43.132Z"
   },
   {
    "duration": 230595,
    "start_time": "2022-05-15T12:41:41.866Z"
   },
   {
    "duration": 64906,
    "start_time": "2022-05-15T12:45:32.463Z"
   },
   {
    "duration": 306953,
    "start_time": "2022-05-15T12:52:18.309Z"
   },
   {
    "duration": 16,
    "start_time": "2022-05-15T12:57:25.265Z"
   },
   {
    "duration": 124731,
    "start_time": "2022-05-15T12:57:25.283Z"
   },
   {
    "duration": 487,
    "start_time": "2022-05-15T12:59:30.018Z"
   },
   {
    "duration": 11,
    "start_time": "2022-05-15T12:59:30.508Z"
   },
   {
    "duration": 7,
    "start_time": "2022-05-15T13:46:46.484Z"
   },
   {
    "duration": 970,
    "start_time": "2022-05-15T13:46:46.495Z"
   },
   {
    "duration": 10,
    "start_time": "2022-05-15T13:46:47.471Z"
   },
   {
    "duration": 784,
    "start_time": "2022-05-15T13:46:47.484Z"
   },
   {
    "duration": 205,
    "start_time": "2022-05-15T13:46:48.278Z"
   },
   {
    "duration": 113128,
    "start_time": "2022-05-15T13:46:48.486Z"
   },
   {
    "duration": 19,
    "start_time": "2022-05-15T13:48:41.616Z"
   },
   {
    "duration": 57,
    "start_time": "2022-05-15T13:48:41.639Z"
   },
   {
    "duration": 1,
    "start_time": "2022-05-15T13:48:41.697Z"
   },
   {
    "duration": 0,
    "start_time": "2022-05-15T13:48:41.699Z"
   },
   {
    "duration": 0,
    "start_time": "2022-05-15T13:48:41.700Z"
   },
   {
    "duration": 0,
    "start_time": "2022-05-15T13:48:41.702Z"
   },
   {
    "duration": 7,
    "start_time": "2022-05-15T13:49:25.323Z"
   },
   {
    "duration": 934,
    "start_time": "2022-05-15T13:49:25.332Z"
   },
   {
    "duration": 10,
    "start_time": "2022-05-15T13:49:26.269Z"
   },
   {
    "duration": 778,
    "start_time": "2022-05-15T13:49:26.282Z"
   },
   {
    "duration": 210,
    "start_time": "2022-05-15T13:49:27.063Z"
   },
   {
    "duration": 88305,
    "start_time": "2022-05-15T13:49:27.276Z"
   },
   {
    "duration": 16,
    "start_time": "2022-05-15T13:50:55.584Z"
   },
   {
    "duration": 66,
    "start_time": "2022-05-15T13:50:55.602Z"
   },
   {
    "duration": 0,
    "start_time": "2022-05-15T13:50:55.671Z"
   },
   {
    "duration": 0,
    "start_time": "2022-05-15T13:50:55.674Z"
   },
   {
    "duration": 0,
    "start_time": "2022-05-15T13:50:55.677Z"
   },
   {
    "duration": 1,
    "start_time": "2022-05-15T13:50:55.679Z"
   },
   {
    "duration": 8,
    "start_time": "2022-05-15T13:51:03.332Z"
   },
   {
    "duration": 961,
    "start_time": "2022-05-15T13:51:03.342Z"
   },
   {
    "duration": 7,
    "start_time": "2022-05-15T13:51:04.306Z"
   },
   {
    "duration": 866,
    "start_time": "2022-05-15T13:51:04.316Z"
   },
   {
    "duration": 221,
    "start_time": "2022-05-15T13:51:05.188Z"
   },
   {
    "duration": 233537,
    "start_time": "2022-05-15T13:51:05.412Z"
   },
   {
    "duration": 24,
    "start_time": "2022-05-15T13:54:58.956Z"
   },
   {
    "duration": 74,
    "start_time": "2022-05-15T13:54:58.983Z"
   },
   {
    "duration": 11616,
    "start_time": "2022-05-15T13:54:59.062Z"
   },
   {
    "duration": 55,
    "start_time": "2022-05-15T13:55:10.680Z"
   },
   {
    "duration": 25,
    "start_time": "2022-05-15T13:55:10.738Z"
   },
   {
    "duration": 1154,
    "start_time": "2022-05-15T13:55:10.766Z"
   },
   {
    "duration": 138,
    "start_time": "2022-05-15T13:55:27.626Z"
   },
   {
    "duration": 10,
    "start_time": "2022-05-15T13:55:55.404Z"
   },
   {
    "duration": 117,
    "start_time": "2022-05-15T13:56:02.272Z"
   },
   {
    "duration": 8,
    "start_time": "2022-05-15T13:57:29.385Z"
   },
   {
    "duration": 99,
    "start_time": "2022-05-15T13:58:18.278Z"
   },
   {
    "duration": 10,
    "start_time": "2022-05-15T13:59:09.386Z"
   },
   {
    "duration": 132,
    "start_time": "2022-05-15T13:59:29.398Z"
   },
   {
    "duration": 22,
    "start_time": "2022-05-15T14:01:09.641Z"
   },
   {
    "duration": 140,
    "start_time": "2022-05-15T14:02:16.176Z"
   },
   {
    "duration": 35,
    "start_time": "2022-05-15T14:06:42.384Z"
   },
   {
    "duration": 70,
    "start_time": "2022-05-15T14:07:14.447Z"
   },
   {
    "duration": 12,
    "start_time": "2022-05-15T14:10:14.010Z"
   },
   {
    "duration": 56890,
    "start_time": "2022-05-15T14:10:43.756Z"
   },
   {
    "duration": 122,
    "start_time": "2022-05-15T14:11:51.886Z"
   },
   {
    "duration": 55409,
    "start_time": "2022-05-15T14:12:02.665Z"
   },
   {
    "duration": 317045,
    "start_time": "2022-05-15T14:13:32.631Z"
   },
   {
    "duration": 13,
    "start_time": "2022-05-15T14:31:46.444Z"
   },
   {
    "duration": 980,
    "start_time": "2022-05-15T14:31:46.460Z"
   },
   {
    "duration": 13,
    "start_time": "2022-05-15T14:31:47.443Z"
   },
   {
    "duration": 823,
    "start_time": "2022-05-15T14:31:47.460Z"
   },
   {
    "duration": 218,
    "start_time": "2022-05-15T14:31:48.289Z"
   },
   {
    "duration": 252010,
    "start_time": "2022-05-15T14:31:48.509Z"
   },
   {
    "duration": 15,
    "start_time": "2022-05-15T14:36:00.524Z"
   },
   {
    "duration": 53,
    "start_time": "2022-05-15T14:36:00.557Z"
   },
   {
    "duration": 11756,
    "start_time": "2022-05-15T14:36:00.613Z"
   },
   {
    "duration": 47,
    "start_time": "2022-05-15T14:36:12.373Z"
   },
   {
    "duration": 7,
    "start_time": "2022-05-15T14:36:12.422Z"
   },
   {
    "duration": 37,
    "start_time": "2022-05-15T14:36:12.458Z"
   },
   {
    "duration": 0,
    "start_time": "2022-05-15T14:36:12.498Z"
   },
   {
    "duration": 0,
    "start_time": "2022-05-15T14:36:12.500Z"
   },
   {
    "duration": 0,
    "start_time": "2022-05-15T14:36:12.502Z"
   },
   {
    "duration": 0,
    "start_time": "2022-05-15T14:36:12.504Z"
   },
   {
    "duration": 0,
    "start_time": "2022-05-15T14:36:12.505Z"
   },
   {
    "duration": 1207,
    "start_time": "2022-05-15T14:38:52.494Z"
   },
   {
    "duration": 304190,
    "start_time": "2022-05-15T14:38:59.344Z"
   },
   {
    "duration": 239564,
    "start_time": "2022-05-15T14:44:03.537Z"
   },
   {
    "duration": 322778,
    "start_time": "2022-05-15T14:48:03.104Z"
   },
   {
    "duration": 65907,
    "start_time": "2022-05-15T14:53:25.886Z"
   },
   {
    "duration": 23,
    "start_time": "2022-05-15T14:54:31.796Z"
   },
   {
    "duration": 113,
    "start_time": "2022-05-15T14:56:20.745Z"
   },
   {
    "duration": 15,
    "start_time": "2022-05-15T14:56:38.835Z"
   },
   {
    "duration": 122880,
    "start_time": "2022-05-15T14:56:42.013Z"
   },
   {
    "duration": 362,
    "start_time": "2022-05-15T14:58:44.895Z"
   },
   {
    "duration": 12,
    "start_time": "2022-05-15T14:58:45.259Z"
   },
   {
    "duration": 13,
    "start_time": "2022-05-15T14:58:45.274Z"
   },
   {
    "duration": 0,
    "start_time": "2022-05-15T14:58:45.290Z"
   },
   {
    "duration": 0,
    "start_time": "2022-05-15T14:58:45.293Z"
   },
   {
    "duration": 0,
    "start_time": "2022-05-15T14:58:45.295Z"
   },
   {
    "duration": 0,
    "start_time": "2022-05-15T14:58:45.298Z"
   },
   {
    "duration": 0,
    "start_time": "2022-05-15T14:58:45.301Z"
   },
   {
    "duration": 0,
    "start_time": "2022-05-15T14:58:45.302Z"
   },
   {
    "duration": 0,
    "start_time": "2022-05-15T14:58:45.305Z"
   },
   {
    "duration": 0,
    "start_time": "2022-05-15T14:58:45.357Z"
   },
   {
    "duration": 0,
    "start_time": "2022-05-15T14:58:45.359Z"
   },
   {
    "duration": 0,
    "start_time": "2022-05-15T14:58:45.361Z"
   },
   {
    "duration": 17,
    "start_time": "2022-05-15T14:59:35.587Z"
   },
   {
    "duration": 17,
    "start_time": "2022-05-15T15:00:27.710Z"
   },
   {
    "duration": 3317,
    "start_time": "2022-05-15T15:02:04.439Z"
   },
   {
    "duration": 911,
    "start_time": "2022-05-15T15:02:07.761Z"
   },
   {
    "duration": 8,
    "start_time": "2022-05-15T15:02:08.675Z"
   },
   {
    "duration": 741,
    "start_time": "2022-05-15T15:02:08.685Z"
   },
   {
    "duration": 226,
    "start_time": "2022-05-15T15:02:09.430Z"
   },
   {
    "duration": 209265,
    "start_time": "2022-05-15T15:02:09.658Z"
   },
   {
    "duration": 12,
    "start_time": "2022-05-15T15:05:38.926Z"
   },
   {
    "duration": 52,
    "start_time": "2022-05-15T15:05:38.940Z"
   },
   {
    "duration": 10154,
    "start_time": "2022-05-15T15:05:38.994Z"
   },
   {
    "duration": 42,
    "start_time": "2022-05-15T15:05:49.150Z"
   },
   {
    "duration": 5,
    "start_time": "2022-05-15T15:05:49.195Z"
   },
   {
    "duration": 1069,
    "start_time": "2022-05-15T15:05:49.202Z"
   },
   {
    "duration": 321480,
    "start_time": "2022-05-15T15:05:50.273Z"
   },
   {
    "duration": 253521,
    "start_time": "2022-05-15T15:11:11.759Z"
   },
   {
    "duration": 317845,
    "start_time": "2022-05-15T15:15:25.283Z"
   },
   {
    "duration": 69438,
    "start_time": "2022-05-15T15:20:43.131Z"
   },
   {
    "duration": 15,
    "start_time": "2022-05-15T15:21:52.574Z"
   },
   {
    "duration": 119394,
    "start_time": "2022-05-15T15:21:52.591Z"
   },
   {
    "duration": 383,
    "start_time": "2022-05-15T15:23:51.987Z"
   },
   {
    "duration": 11,
    "start_time": "2022-05-15T15:23:52.374Z"
   },
   {
    "duration": 9,
    "start_time": "2022-05-15T15:23:52.388Z"
   },
   {
    "duration": 141578,
    "start_time": "2022-05-15T15:23:52.399Z"
   },
   {
    "duration": 30118,
    "start_time": "2022-05-15T15:26:13.980Z"
   },
   {
    "duration": 307224,
    "start_time": "2022-05-15T15:26:44.100Z"
   },
   {
    "duration": 2454,
    "start_time": "2022-05-15T15:31:51.326Z"
   },
   {
    "duration": 270824,
    "start_time": "2022-05-15T15:31:53.782Z"
   },
   {
    "duration": 2172,
    "start_time": "2022-05-15T15:36:24.609Z"
   },
   {
    "duration": 437418,
    "start_time": "2022-05-15T15:36:26.784Z"
   },
   {
    "duration": 33880,
    "start_time": "2022-05-15T15:43:44.206Z"
   },
   {
    "duration": 1950805,
    "start_time": "2022-05-15T15:44:18.089Z"
   },
   {
    "duration": 13,
    "start_time": "2022-05-15T16:16:48.897Z"
   },
   {
    "duration": 6328,
    "start_time": "2022-05-15T16:20:39.463Z"
   },
   {
    "duration": 274855,
    "start_time": "2022-05-15T16:21:16.077Z"
   },
   {
    "duration": 2338,
    "start_time": "2022-05-15T16:25:50.935Z"
   },
   {
    "duration": 246692,
    "start_time": "2022-05-15T16:26:31.923Z"
   },
   {
    "duration": 0,
    "start_time": "2022-05-15T16:30:38.617Z"
   },
   {
    "duration": 29,
    "start_time": "2022-05-15T16:30:40.950Z"
   },
   {
    "duration": 9,
    "start_time": "2022-05-15T16:31:12.062Z"
   },
   {
    "duration": 925,
    "start_time": "2022-05-15T16:31:12.075Z"
   },
   {
    "duration": 8,
    "start_time": "2022-05-15T16:31:13.002Z"
   },
   {
    "duration": 794,
    "start_time": "2022-05-15T16:31:13.012Z"
   },
   {
    "duration": 195,
    "start_time": "2022-05-15T16:31:13.809Z"
   },
   {
    "duration": 216025,
    "start_time": "2022-05-15T16:31:14.006Z"
   },
   {
    "duration": 24,
    "start_time": "2022-05-15T16:34:50.033Z"
   },
   {
    "duration": 75,
    "start_time": "2022-05-15T16:34:50.060Z"
   },
   {
    "duration": 10790,
    "start_time": "2022-05-15T16:34:50.139Z"
   },
   {
    "duration": 73,
    "start_time": "2022-05-15T16:35:00.932Z"
   },
   {
    "duration": 6,
    "start_time": "2022-05-15T16:35:01.007Z"
   },
   {
    "duration": 1144,
    "start_time": "2022-05-15T16:35:01.015Z"
   },
   {
    "duration": 8793,
    "start_time": "2022-05-15T16:35:35.668Z"
   },
   {
    "duration": 1211587,
    "start_time": "2022-05-15T16:35:57.809Z"
   },
   {
    "duration": 2151,
    "start_time": "2022-05-15T16:56:09.400Z"
   },
   {
    "duration": 10,
    "start_time": "2022-05-15T16:58:28.518Z"
   },
   {
    "duration": 891,
    "start_time": "2022-05-15T16:58:28.532Z"
   },
   {
    "duration": 9,
    "start_time": "2022-05-15T16:58:29.426Z"
   },
   {
    "duration": 765,
    "start_time": "2022-05-15T16:58:29.438Z"
   },
   {
    "duration": 213,
    "start_time": "2022-05-15T16:58:30.207Z"
   },
   {
    "duration": 247286,
    "start_time": "2022-05-15T16:58:30.423Z"
   },
   {
    "duration": 15,
    "start_time": "2022-05-15T17:02:37.711Z"
   },
   {
    "duration": 96,
    "start_time": "2022-05-15T17:02:37.729Z"
   },
   {
    "duration": 16477,
    "start_time": "2022-05-15T17:02:37.830Z"
   },
   {
    "duration": 71,
    "start_time": "2022-05-15T17:02:54.310Z"
   },
   {
    "duration": 1315,
    "start_time": "2022-05-15T17:02:54.383Z"
   },
   {
    "duration": 1147626,
    "start_time": "2022-05-15T17:04:18.394Z"
   },
   {
    "duration": 1807,
    "start_time": "2022-05-15T17:23:26.024Z"
   },
   {
    "duration": 55,
    "start_time": "2022-05-15T17:25:18.480Z"
   },
   {
    "duration": 81,
    "start_time": "2022-05-15T17:26:28.362Z"
   },
   {
    "duration": 11,
    "start_time": "2022-05-15T17:34:45.712Z"
   },
   {
    "duration": 820,
    "start_time": "2022-05-15T17:34:45.726Z"
   },
   {
    "duration": 12,
    "start_time": "2022-05-15T17:34:46.548Z"
   },
   {
    "duration": 660,
    "start_time": "2022-05-15T17:34:46.562Z"
   },
   {
    "duration": 183,
    "start_time": "2022-05-15T17:34:47.225Z"
   },
   {
    "duration": 167104,
    "start_time": "2022-05-15T17:34:47.410Z"
   },
   {
    "duration": 48,
    "start_time": "2022-05-15T17:37:34.518Z"
   },
   {
    "duration": 54,
    "start_time": "2022-05-15T17:37:34.569Z"
   },
   {
    "duration": 11382,
    "start_time": "2022-05-15T17:37:34.626Z"
   },
   {
    "duration": 57,
    "start_time": "2022-05-15T17:37:46.010Z"
   },
   {
    "duration": 1023,
    "start_time": "2022-05-15T17:37:46.069Z"
   },
   {
    "duration": 1143743,
    "start_time": "2022-05-15T17:37:47.096Z"
   },
   {
    "duration": 2097,
    "start_time": "2022-05-15T17:56:50.842Z"
   },
   {
    "duration": 2788,
    "start_time": "2022-05-15T18:03:37.009Z"
   },
   {
    "duration": 998,
    "start_time": "2022-05-15T18:03:39.800Z"
   },
   {
    "duration": 8,
    "start_time": "2022-05-15T18:03:40.800Z"
   },
   {
    "duration": 745,
    "start_time": "2022-05-15T18:03:40.811Z"
   },
   {
    "duration": 245,
    "start_time": "2022-05-15T18:03:41.560Z"
   },
   {
    "duration": 235125,
    "start_time": "2022-05-15T18:03:41.807Z"
   },
   {
    "duration": 11,
    "start_time": "2022-05-15T18:07:36.934Z"
   },
   {
    "duration": 49,
    "start_time": "2022-05-15T18:07:36.957Z"
   },
   {
    "duration": 11334,
    "start_time": "2022-05-15T18:07:37.008Z"
   },
   {
    "duration": 61,
    "start_time": "2022-05-15T18:07:48.344Z"
   },
   {
    "duration": 1184,
    "start_time": "2022-05-15T18:07:48.408Z"
   },
   {
    "duration": 286213,
    "start_time": "2022-05-15T18:07:49.595Z"
   },
   {
    "duration": 225377,
    "start_time": "2022-05-15T18:12:35.810Z"
   },
   {
    "duration": 270384,
    "start_time": "2022-05-15T18:16:21.191Z"
   },
   {
    "duration": 36192,
    "start_time": "2022-05-15T18:20:51.578Z"
   },
   {
    "duration": 14,
    "start_time": "2022-05-15T18:21:27.772Z"
   },
   {
    "duration": 106897,
    "start_time": "2022-05-15T18:21:27.788Z"
   },
   {
    "duration": 494,
    "start_time": "2022-05-15T18:23:14.687Z"
   },
   {
    "duration": 13,
    "start_time": "2022-05-15T18:23:15.184Z"
   },
   {
    "duration": 138,
    "start_time": "2022-05-15T18:23:15.200Z"
   },
   {
    "duration": 164643,
    "start_time": "2022-05-15T18:23:15.340Z"
   },
   {
    "duration": 31119,
    "start_time": "2022-05-15T18:25:59.985Z"
   },
   {
    "duration": 275120,
    "start_time": "2022-05-15T18:26:31.107Z"
   },
   {
    "duration": 2160,
    "start_time": "2022-05-15T18:31:06.229Z"
   },
   {
    "duration": 28530,
    "start_time": "2022-05-15T18:31:08.392Z"
   },
   {
    "duration": 0,
    "start_time": "2022-05-15T18:31:36.925Z"
   },
   {
    "duration": 0,
    "start_time": "2022-05-15T18:31:36.926Z"
   },
   {
    "duration": 0,
    "start_time": "2022-05-15T18:31:36.928Z"
   },
   {
    "duration": 0,
    "start_time": "2022-05-15T18:31:36.929Z"
   },
   {
    "duration": 0,
    "start_time": "2022-05-15T18:31:36.930Z"
   },
   {
    "duration": 2809933,
    "start_time": "2022-05-15T18:39:03.519Z"
   },
   {
    "duration": 1769,
    "start_time": "2022-05-15T19:25:53.458Z"
   },
   {
    "duration": 332336,
    "start_time": "2022-05-15T19:25:55.230Z"
   },
   {
    "duration": 32000,
    "start_time": "2022-05-15T19:31:27.569Z"
   },
   {
    "duration": 1871010,
    "start_time": "2022-05-15T19:31:59.572Z"
   },
   {
    "duration": 13,
    "start_time": "2022-05-15T20:03:10.585Z"
   },
   {
    "duration": 15,
    "start_time": "2022-05-15T20:05:26.478Z"
   },
   {
    "duration": 8,
    "start_time": "2022-05-15T20:06:02.935Z"
   },
   {
    "duration": 21160,
    "start_time": "2022-05-15T20:06:14.230Z"
   },
   {
    "duration": 4035,
    "start_time": "2022-05-15T20:07:25.826Z"
   },
   {
    "duration": 3987,
    "start_time": "2022-05-15T20:08:01.694Z"
   },
   {
    "duration": 32988,
    "start_time": "2022-05-15T20:10:29.934Z"
   },
   {
    "duration": 3551,
    "start_time": "2022-05-15T20:11:16.408Z"
   },
   {
    "duration": 42043,
    "start_time": "2022-05-15T20:11:50.237Z"
   },
   {
    "duration": 4938,
    "start_time": "2022-05-15T20:12:39.850Z"
   },
   {
    "duration": 17,
    "start_time": "2022-05-15T20:13:11.688Z"
   }
  ],
  "kernelspec": {
   "display_name": "Python 3 (ipykernel)",
   "language": "python",
   "name": "python3"
  },
  "language_info": {
   "codemirror_mode": {
    "name": "ipython",
    "version": 3
   },
   "file_extension": ".py",
   "mimetype": "text/x-python",
   "name": "python",
   "nbconvert_exporter": "python",
   "pygments_lexer": "ipython3",
   "version": "3.9.13"
  },
  "toc": {
   "base_numbering": 1,
   "nav_menu": {},
   "number_sections": true,
   "sideBar": true,
   "skip_h1_title": true,
   "title_cell": "Содержание",
   "title_sidebar": "Contents",
   "toc_cell": true,
   "toc_position": {
    "height": "calc(100% - 180px)",
    "left": "10px",
    "top": "150px",
    "width": "302.391px"
   },
   "toc_section_display": true,
   "toc_window_display": false
  }
 },
 "nbformat": 4,
 "nbformat_minor": 2
}
